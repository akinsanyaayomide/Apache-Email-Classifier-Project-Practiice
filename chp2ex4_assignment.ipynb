{
 "cells": [
  {
   "cell_type": "code",
   "execution_count": 1,
   "id": "a2b9b102",
   "metadata": {},
   "outputs": [],
   "source": [
    "import os \n",
    "import urllib\n",
    "import tarfile\n",
    "\n",
    "DOWNLOAD_ROOT = \"http://spamassassin.apache.org/old/publiccorpus/\"\n",
    "HAM_URL = DOWNLOAD_ROOT + \"20030228_easy_ham.tar.bz2\"\n",
    "SPAM_URL = DOWNLOAD_ROOT + \"20030228_spam.tar.bz2\"\n",
    "SPAM_PATH = os.path.join(\"datasets\", \"spam\")\n",
    "\n",
    "\n",
    "#Step 1: Write a function to fetch the data\n",
    "\n",
    "def fetch_spam_data(ham_url=HAM_URL,spam_url=SPAM_URL,spam_path=SPAM_PATH):\n",
    "    if not os.path.isdir(spam_path):\n",
    "        os.makedirs(spam_path)\n",
    "    for filename,url in [(\"ham.tar.bz2\", ham_url), (\"spam.tar.bz2\", spam_url)]:\n",
    "        path= os.path.join(spam_path,filename)\n",
    "        if not os.path.isfile(path):\n",
    "            urllib.request.urlretrieve(url,path)\n",
    "        tar_bz2_file = tarfile.open(path)\n",
    "        tar_bz2_file.extractall(path=spam_path)\n",
    "        tar_bz2_file.close()\n",
    "            "
   ]
  },
  {
   "cell_type": "code",
   "execution_count": 2,
   "id": "2551537e",
   "metadata": {},
   "outputs": [],
   "source": [
    "fetch_spam_data()"
   ]
  },
  {
   "cell_type": "code",
   "execution_count": 3,
   "id": "ecf97887",
   "metadata": {},
   "outputs": [],
   "source": [
    "HAM_DIR = os.path.join(SPAM_PATH, \"easy_ham\")\n",
    "SPAM_DIR = os.path.join(SPAM_PATH, \"spam\")\n"
   ]
  },
  {
   "cell_type": "code",
   "execution_count": 10,
   "id": "2c0ee16b",
   "metadata": {},
   "outputs": [
    {
     "name": "stdout",
     "output_type": "stream",
     "text": [
      "00001.7c53336b37003a9286aba55d2945844c\n"
     ]
    },
    {
     "data": {
      "text/plain": [
       "38"
      ]
     },
     "execution_count": 10,
     "metadata": {},
     "output_type": "execute_result"
    }
   ],
   "source": [
    "test=sorted(os.listdir(HAM_DIR))\n",
    "print(test[0])\n",
    "len(test[0])"
   ]
  },
  {
   "cell_type": "code",
   "execution_count": 11,
   "id": "88572f22",
   "metadata": {},
   "outputs": [],
   "source": [
    "ham_filenames = [name for name in sorted(os.listdir(HAM_DIR)) if len(name) > 20]\n",
    "spam_filenames = [name for name in sorted(os.listdir(SPAM_DIR)) if len(name) > 20]"
   ]
  },
  {
   "cell_type": "code",
   "execution_count": 12,
   "id": "949d6d19",
   "metadata": {},
   "outputs": [
    {
     "data": {
      "text/plain": [
       "2500"
      ]
     },
     "execution_count": 12,
     "metadata": {},
     "output_type": "execute_result"
    }
   ],
   "source": [
    "len(ham_filenames)"
   ]
  },
  {
   "cell_type": "code",
   "execution_count": 13,
   "id": "bd086938",
   "metadata": {},
   "outputs": [
    {
     "data": {
      "text/plain": [
       "500"
      ]
     },
     "execution_count": 13,
     "metadata": {},
     "output_type": "execute_result"
    }
   ],
   "source": [
    "len(spam_filenames)"
   ]
  },
  {
   "cell_type": "code",
   "execution_count": 15,
   "id": "31c067db",
   "metadata": {},
   "outputs": [],
   "source": [
    "import email\n",
    "import email.policy\n",
    "\n",
    "def load_email(is_spam,filename,spam_path=SPAM_PATH):\n",
    "    directory = \"spam\" if is_spam else \"easy_ham\"\n",
    "    with open(os.path.join(spam_path,directory,filename),\"rb\") as f:\n",
    "        return email.parser.BytesParser(policy=email.policy.default).parse(f)"
   ]
  },
  {
   "cell_type": "code",
   "execution_count": 16,
   "id": "f0577517",
   "metadata": {},
   "outputs": [],
   "source": [
    "ham_emails = [load_email(is_spam=False,filename=name) for name in ham_filenames]\n",
    "spam_emails = [load_email(is_spam=True, filename=name) for name in spam_filenames]"
   ]
  },
  {
   "cell_type": "code",
   "execution_count": 22,
   "id": "088159e6",
   "metadata": {},
   "outputs": [
    {
     "data": {
      "text/plain": [
       "\"Martin A posted:\\nTassos Papadopoulos, the Greek sculptor behind the plan, judged that the\\n limestone of Mount Kerdylio, 70 miles east of Salonika and not far from the\\n Mount Athos monastic community, was ideal for the patriotic sculpture. \\n \\n As well as Alexander's granite features, 240 ft high and 170 ft wide, a\\n museum, a restored amphitheatre and car park for admiring crowds are\\nplanned\\n---------------------\\nSo is this mountain limestone or granite?\\nIf it's limestone, it'll weather pretty fast.\\n\\n------------------------ Yahoo! Groups Sponsor ---------------------~-->\\n4 DVDs Free +s&p Join Now\\nhttp://us.click.yahoo.com/pt6YBB/NXiEAA/mG3HAA/7gSolB/TM\\n---------------------------------------------------------------------~->\\n\\nTo unsubscribe from this group, send an email to:\\nforteana-unsubscribe@egroups.com\\n\\n \\n\\nYour use of Yahoo! Groups is subject to http://docs.yahoo.com/info/terms/\""
      ]
     },
     "execution_count": 22,
     "metadata": {},
     "output_type": "execute_result"
    }
   ],
   "source": [
    "ham_emails[1].get_content().strip()"
   ]
  },
  {
   "cell_type": "code",
   "execution_count": 23,
   "id": "d66bb3a8",
   "metadata": {},
   "outputs": [
    {
     "name": "stdout",
     "output_type": "stream",
     "text": [
      "Martin A posted:\n",
      "Tassos Papadopoulos, the Greek sculptor behind the plan, judged that the\n",
      " limestone of Mount Kerdylio, 70 miles east of Salonika and not far from the\n",
      " Mount Athos monastic community, was ideal for the patriotic sculpture. \n",
      " \n",
      " As well as Alexander's granite features, 240 ft high and 170 ft wide, a\n",
      " museum, a restored amphitheatre and car park for admiring crowds are\n",
      "planned\n",
      "---------------------\n",
      "So is this mountain limestone or granite?\n",
      "If it's limestone, it'll weather pretty fast.\n",
      "\n",
      "------------------------ Yahoo! Groups Sponsor ---------------------~-->\n",
      "4 DVDs Free +s&p Join Now\n",
      "http://us.click.yahoo.com/pt6YBB/NXiEAA/mG3HAA/7gSolB/TM\n",
      "---------------------------------------------------------------------~->\n",
      "\n",
      "To unsubscribe from this group, send an email to:\n",
      "forteana-unsubscribe@egroups.com\n",
      "\n",
      " \n",
      "\n",
      "Your use of Yahoo! Groups is subject to http://docs.yahoo.com/info/terms/\n"
     ]
    }
   ],
   "source": [
    "print(ham_emails[1].get_content().strip())"
   ]
  },
  {
   "cell_type": "code",
   "execution_count": 24,
   "id": "c37e2f6c",
   "metadata": {},
   "outputs": [
    {
     "name": "stdout",
     "output_type": "stream",
     "text": [
      "Help wanted.  We are a 14 year old fortune 500 company, that is\n",
      "growing at a tremendous rate.  We are looking for individuals who\n",
      "want to work from home.\n",
      "\n",
      "This is an opportunity to make an excellent income.  No experience\n",
      "is required.  We will train you.\n",
      "\n",
      "So if you are looking to be employed from home with a career that has\n",
      "vast opportunities, then go:\n",
      "\n",
      "http://www.basetel.com/wealthnow\n",
      "\n",
      "We are looking for energetic and self motivated people.  If that is you\n",
      "than click on the link and fill out the form, and one of our\n",
      "employement specialist will contact you.\n",
      "\n",
      "To be removed from our link simple go to:\n",
      "\n",
      "http://www.basetel.com/remove.html\n",
      "\n",
      "\n",
      "4139vOLW7-758DoDY1425FRhM1-764SMFc8513fCsLl40\n"
     ]
    }
   ],
   "source": [
    "print(spam_emails[6].get_content().strip())\n"
   ]
  },
  {
   "cell_type": "code",
   "execution_count": 25,
   "id": "e2dda2bf",
   "metadata": {},
   "outputs": [
    {
     "data": {
      "text/plain": [
       "[<email.message.EmailMessage at 0x7fed3a4308b0>,\n",
       " <email.message.EmailMessage at 0x7fed3a07ceb0>,\n",
       " <email.message.EmailMessage at 0x7fed3a07c9d0>,\n",
       " <email.message.EmailMessage at 0x7fed3a07c940>,\n",
       " <email.message.EmailMessage at 0x7fed3b034d60>,\n",
       " <email.message.EmailMessage at 0x7fed3b034d90>,\n",
       " <email.message.EmailMessage at 0x7fed3b034d00>,\n",
       " <email.message.EmailMessage at 0x7fed3b034cd0>,\n",
       " <email.message.EmailMessage at 0x7fed3b034970>,\n",
       " <email.message.EmailMessage at 0x7fed3b034280>,\n",
       " <email.message.EmailMessage at 0x7fed3b034b80>,\n",
       " <email.message.EmailMessage at 0x7fed3b034bb0>,\n",
       " <email.message.EmailMessage at 0x7fed3a4300a0>,\n",
       " <email.message.EmailMessage at 0x7fed3a430e20>,\n",
       " <email.message.EmailMessage at 0x7fed3a430cd0>,\n",
       " <email.message.EmailMessage at 0x7fed3af5c3d0>,\n",
       " <email.message.EmailMessage at 0x7fed3a08e4f0>,\n",
       " <email.message.EmailMessage at 0x7fed3a08e3a0>,\n",
       " <email.message.EmailMessage at 0x7fed3a430220>,\n",
       " <email.message.EmailMessage at 0x7fed3a430a60>,\n",
       " <email.message.EmailMessage at 0x7fed3a430dc0>,\n",
       " <email.message.EmailMessage at 0x7fed3b2e1730>,\n",
       " <email.message.EmailMessage at 0x7fed3b2e1d60>,\n",
       " <email.message.EmailMessage at 0x7fed3b2e1220>,\n",
       " <email.message.EmailMessage at 0x7fed3b2e15b0>,\n",
       " <email.message.EmailMessage at 0x7fed3b2e1550>,\n",
       " <email.message.EmailMessage at 0x7fed3b2e1610>,\n",
       " <email.message.EmailMessage at 0x7fed3b2e11f0>,\n",
       " <email.message.EmailMessage at 0x7fed3b2e1b80>,\n",
       " <email.message.EmailMessage at 0x7fed3af5c2b0>,\n",
       " <email.message.EmailMessage at 0x7fed3af5c940>,\n",
       " <email.message.EmailMessage at 0x7fed3b0290d0>,\n",
       " <email.message.EmailMessage at 0x7fed3b029c10>,\n",
       " <email.message.EmailMessage at 0x7fed3b0294f0>,\n",
       " <email.message.EmailMessage at 0x7fed3b029eb0>,\n",
       " <email.message.EmailMessage at 0x7fed3b029130>,\n",
       " <email.message.EmailMessage at 0x7fed3b0290a0>,\n",
       " <email.message.EmailMessage at 0x7fed3b029b50>,\n",
       " <email.message.EmailMessage at 0x7fed3b0297c0>,\n",
       " <email.message.EmailMessage at 0x7fed3b029340>,\n",
       " <email.message.EmailMessage at 0x7fed3b029940>,\n",
       " <email.message.EmailMessage at 0x7fed3b029d30>,\n",
       " <email.message.EmailMessage at 0x7fed3b029a90>,\n",
       " <email.message.EmailMessage at 0x7fed3b029070>,\n",
       " <email.message.EmailMessage at 0x7fed3b0293a0>,\n",
       " <email.message.EmailMessage at 0x7fed3b029f70>,\n",
       " <email.message.EmailMessage at 0x7fed3b029580>,\n",
       " <email.message.EmailMessage at 0x7fed3b029970>,\n",
       " <email.message.EmailMessage at 0x7fed3b0299d0>,\n",
       " <email.message.EmailMessage at 0x7fed3b0299a0>,\n",
       " <email.message.EmailMessage at 0x7fed3b029880>,\n",
       " <email.message.EmailMessage at 0x7fed3b029e50>,\n",
       " <email.message.EmailMessage at 0x7fed3b029430>,\n",
       " <email.message.EmailMessage at 0x7fed3b029d90>,\n",
       " <email.message.EmailMessage at 0x7fed3b0291f0>,\n",
       " <email.message.EmailMessage at 0x7fed3b0297f0>,\n",
       " <email.message.EmailMessage at 0x7fed3b029b20>,\n",
       " <email.message.EmailMessage at 0x7fed3b029f40>,\n",
       " <email.message.EmailMessage at 0x7fed3b0296a0>,\n",
       " <email.message.EmailMessage at 0x7fed3b029a30>,\n",
       " <email.message.EmailMessage at 0x7fed3b029cd0>,\n",
       " <email.message.EmailMessage at 0x7fed3b0296d0>,\n",
       " <email.message.EmailMessage at 0x7fed3b0291c0>,\n",
       " <email.message.EmailMessage at 0x7fed3b09b8b0>,\n",
       " <email.message.EmailMessage at 0x7fed3b09bc70>,\n",
       " <email.message.EmailMessage at 0x7fed3b09b0d0>,\n",
       " <email.message.EmailMessage at 0x7fed3b09b100>,\n",
       " <email.message.EmailMessage at 0x7fed3b09b2b0>,\n",
       " <email.message.EmailMessage at 0x7fed3b09be50>,\n",
       " <email.message.EmailMessage at 0x7fed3b09b400>,\n",
       " <email.message.EmailMessage at 0x7fed3b09bbb0>,\n",
       " <email.message.EmailMessage at 0x7fed3b09bca0>,\n",
       " <email.message.EmailMessage at 0x7fed3b09baf0>,\n",
       " <email.message.EmailMessage at 0x7fed3b09b7c0>,\n",
       " <email.message.EmailMessage at 0x7fed3b09be80>,\n",
       " <email.message.EmailMessage at 0x7fed3b09b610>,\n",
       " <email.message.EmailMessage at 0x7fed3b09b070>,\n",
       " <email.message.EmailMessage at 0x7fed3b09bd60>,\n",
       " <email.message.EmailMessage at 0x7fed3b09b430>,\n",
       " <email.message.EmailMessage at 0x7fed3b09b5b0>,\n",
       " <email.message.EmailMessage at 0x7fed3b09bc40>,\n",
       " <email.message.EmailMessage at 0x7fed3b09b460>,\n",
       " <email.message.EmailMessage at 0x7fed3b09bc10>,\n",
       " <email.message.EmailMessage at 0x7fed3b09bb50>,\n",
       " <email.message.EmailMessage at 0x7fed3b09b730>,\n",
       " <email.message.EmailMessage at 0x7fed3b09b310>,\n",
       " <email.message.EmailMessage at 0x7fed3b09b850>,\n",
       " <email.message.EmailMessage at 0x7fed3b09b130>,\n",
       " <email.message.EmailMessage at 0x7fed3b09b550>,\n",
       " <email.message.EmailMessage at 0x7fed3b09bfd0>,\n",
       " <email.message.EmailMessage at 0x7fed3b09b250>,\n",
       " <email.message.EmailMessage at 0x7fed3b09bee0>,\n",
       " <email.message.EmailMessage at 0x7fed3b09b040>,\n",
       " <email.message.EmailMessage at 0x7fed3b09bd00>,\n",
       " <email.message.EmailMessage at 0x7fed3b09b790>,\n",
       " <email.message.EmailMessage at 0x7fed3b09b5e0>,\n",
       " <email.message.EmailMessage at 0x7fed3b09bfa0>,\n",
       " <email.message.EmailMessage at 0x7fed3b09b670>,\n",
       " <email.message.EmailMessage at 0x7fed3b09b220>,\n",
       " <email.message.EmailMessage at 0x7fed3b09b6a0>,\n",
       " <email.message.EmailMessage at 0x7fed3b09ba00>,\n",
       " <email.message.EmailMessage at 0x7fed3b09b9a0>,\n",
       " <email.message.EmailMessage at 0x7fed3b09b370>,\n",
       " <email.message.EmailMessage at 0x7fed3b09bf70>,\n",
       " <email.message.EmailMessage at 0x7fed3b09b4f0>,\n",
       " <email.message.EmailMessage at 0x7fed3b09b4c0>,\n",
       " <email.message.EmailMessage at 0x7fed3b09b880>,\n",
       " <email.message.EmailMessage at 0x7fed3b09ba90>,\n",
       " <email.message.EmailMessage at 0x7fed3b09b700>,\n",
       " <email.message.EmailMessage at 0x7fed3b09b8e0>,\n",
       " <email.message.EmailMessage at 0x7fed3b09ba60>,\n",
       " <email.message.EmailMessage at 0x7fed3b09bac0>,\n",
       " <email.message.EmailMessage at 0x7fed3b09bf40>,\n",
       " <email.message.EmailMessage at 0x7fed3b09b640>,\n",
       " <email.message.EmailMessage at 0x7fed3b09b3a0>,\n",
       " <email.message.EmailMessage at 0x7fed3b09bbe0>,\n",
       " <email.message.EmailMessage at 0x7fed3b09b910>,\n",
       " <email.message.EmailMessage at 0x7fed3b09bf10>,\n",
       " <email.message.EmailMessage at 0x7fed3b09be20>,\n",
       " <email.message.EmailMessage at 0x7fed3b09b1f0>,\n",
       " <email.message.EmailMessage at 0x7fed3b0add60>,\n",
       " <email.message.EmailMessage at 0x7fed3b0ad0d0>,\n",
       " <email.message.EmailMessage at 0x7fed3b0ad8e0>,\n",
       " <email.message.EmailMessage at 0x7fed3b0ad9a0>,\n",
       " <email.message.EmailMessage at 0x7fed3b0ad7c0>,\n",
       " <email.message.EmailMessage at 0x7fed3b0ad1c0>,\n",
       " <email.message.EmailMessage at 0x7fed3b0ada90>,\n",
       " <email.message.EmailMessage at 0x7fed3b0ad9d0>,\n",
       " <email.message.EmailMessage at 0x7fed3b0adbb0>,\n",
       " <email.message.EmailMessage at 0x7fed3b0ad160>,\n",
       " <email.message.EmailMessage at 0x7fed3b0ad070>,\n",
       " <email.message.EmailMessage at 0x7fed3b0ad4f0>,\n",
       " <email.message.EmailMessage at 0x7fed3b0ad430>,\n",
       " <email.message.EmailMessage at 0x7fed3b0ad670>,\n",
       " <email.message.EmailMessage at 0x7fed3b0adbe0>,\n",
       " <email.message.EmailMessage at 0x7fed3a1e1b50>,\n",
       " <email.message.EmailMessage at 0x7fed3a1e16a0>,\n",
       " <email.message.EmailMessage at 0x7fed3a1e1820>,\n",
       " <email.message.EmailMessage at 0x7fed3a1e1f70>,\n",
       " <email.message.EmailMessage at 0x7fed3af53670>,\n",
       " <email.message.EmailMessage at 0x7fed3af53dc0>,\n",
       " <email.message.EmailMessage at 0x7fed3af53d60>,\n",
       " <email.message.EmailMessage at 0x7fed3b0969d0>,\n",
       " <email.message.EmailMessage at 0x7fed3af53c70>,\n",
       " <email.message.EmailMessage at 0x7fed3af53ee0>,\n",
       " <email.message.EmailMessage at 0x7fed3a1d5d60>,\n",
       " <email.message.EmailMessage at 0x7fed3a4335b0>,\n",
       " <email.message.EmailMessage at 0x7fed3a4337f0>,\n",
       " <email.message.EmailMessage at 0x7fed3a433e20>,\n",
       " <email.message.EmailMessage at 0x7fed3a4339d0>,\n",
       " <email.message.EmailMessage at 0x7fed3a433a60>,\n",
       " <email.message.EmailMessage at 0x7fed3a430520>,\n",
       " <email.message.EmailMessage at 0x7fed3a430d30>,\n",
       " <email.message.EmailMessage at 0x7fed3a430280>,\n",
       " <email.message.EmailMessage at 0x7fed3a430940>,\n",
       " <email.message.EmailMessage at 0x7fed3af539a0>,\n",
       " <email.message.EmailMessage at 0x7fed3a1c8580>,\n",
       " <email.message.EmailMessage at 0x7fed3b2c6130>,\n",
       " <email.message.EmailMessage at 0x7fed3b2c6c70>,\n",
       " <email.message.EmailMessage at 0x7fed3af55310>,\n",
       " <email.message.EmailMessage at 0x7fed3af555e0>,\n",
       " <email.message.EmailMessage at 0x7fed3af555b0>,\n",
       " <email.message.EmailMessage at 0x7fed3af55880>,\n",
       " <email.message.EmailMessage at 0x7fed3af55550>,\n",
       " <email.message.EmailMessage at 0x7fed3af554f0>,\n",
       " <email.message.EmailMessage at 0x7fed3af550d0>,\n",
       " <email.message.EmailMessage at 0x7fed3a4307c0>,\n",
       " <email.message.EmailMessage at 0x7fed3a430d00>,\n",
       " <email.message.EmailMessage at 0x7fed3a430970>,\n",
       " <email.message.EmailMessage at 0x7fed3a430550>,\n",
       " <email.message.EmailMessage at 0x7fed3a4305e0>,\n",
       " <email.message.EmailMessage at 0x7fed3af553a0>,\n",
       " <email.message.EmailMessage at 0x7fed3af55ca0>,\n",
       " <email.message.EmailMessage at 0x7fed3af55220>,\n",
       " <email.message.EmailMessage at 0x7fed3af55280>,\n",
       " <email.message.EmailMessage at 0x7fed3af55100>,\n",
       " <email.message.EmailMessage at 0x7fed3af551f0>,\n",
       " <email.message.EmailMessage at 0x7fed3af55460>,\n",
       " <email.message.EmailMessage at 0x7fed3af55760>,\n",
       " <email.message.EmailMessage at 0x7fed3a4225e0>,\n",
       " <email.message.EmailMessage at 0x7fed3a422b50>,\n",
       " <email.message.EmailMessage at 0x7fed3a422e50>,\n",
       " <email.message.EmailMessage at 0x7fed3a422e20>,\n",
       " <email.message.EmailMessage at 0x7fed3a422ca0>,\n",
       " <email.message.EmailMessage at 0x7fed3a422bb0>,\n",
       " <email.message.EmailMessage at 0x7fed3a422d00>,\n",
       " <email.message.EmailMessage at 0x7fed3b0408b0>,\n",
       " <email.message.EmailMessage at 0x7fed3a2f2fa0>,\n",
       " <email.message.EmailMessage at 0x7fed3a2f2850>,\n",
       " <email.message.EmailMessage at 0x7fed3a422ee0>,\n",
       " <email.message.EmailMessage at 0x7fed3a4225b0>,\n",
       " <email.message.EmailMessage at 0x7fed3b040bb0>,\n",
       " <email.message.EmailMessage at 0x7fed3a0a0820>,\n",
       " <email.message.EmailMessage at 0x7fed3a422df0>,\n",
       " <email.message.EmailMessage at 0x7fed3a422640>,\n",
       " <email.message.EmailMessage at 0x7fed3b040730>,\n",
       " <email.message.EmailMessage at 0x7fed3b040ee0>,\n",
       " <email.message.EmailMessage at 0x7fed3a2ea7c0>,\n",
       " <email.message.EmailMessage at 0x7fed3a2ea790>,\n",
       " <email.message.EmailMessage at 0x7fed3a2ea520>,\n",
       " <email.message.EmailMessage at 0x7fed3a2ea6d0>,\n",
       " <email.message.EmailMessage at 0x7fed3a2ea5e0>,\n",
       " <email.message.EmailMessage at 0x7fed3a2ea430>,\n",
       " <email.message.EmailMessage at 0x7fed3a2ea610>,\n",
       " <email.message.EmailMessage at 0x7fed3a2ea3a0>,\n",
       " <email.message.EmailMessage at 0x7fed3a2ea730>,\n",
       " <email.message.EmailMessage at 0x7fed3a3b81c0>,\n",
       " <email.message.EmailMessage at 0x7fed3a3b8e80>,\n",
       " <email.message.EmailMessage at 0x7fed3a3b80a0>,\n",
       " <email.message.EmailMessage at 0x7fed3a3b82e0>,\n",
       " <email.message.EmailMessage at 0x7fed3a3b82b0>,\n",
       " <email.message.EmailMessage at 0x7fed3a3b8ca0>,\n",
       " <email.message.EmailMessage at 0x7fed3a0a0130>,\n",
       " <email.message.EmailMessage at 0x7fed3a0a0550>,\n",
       " <email.message.EmailMessage at 0x7fed3a0a0370>,\n",
       " <email.message.EmailMessage at 0x7fed3b0ad640>,\n",
       " <email.message.EmailMessage at 0x7fed3b0ad460>,\n",
       " <email.message.EmailMessage at 0x7fed3b0add90>,\n",
       " <email.message.EmailMessage at 0x7fed3b0ad880>,\n",
       " <email.message.EmailMessage at 0x7fed3b0ad8b0>,\n",
       " <email.message.EmailMessage at 0x7fed3b0adf70>,\n",
       " <email.message.EmailMessage at 0x7fed3b0ad340>,\n",
       " <email.message.EmailMessage at 0x7fed3b0adaf0>,\n",
       " <email.message.EmailMessage at 0x7fed3b0adb20>,\n",
       " <email.message.EmailMessage at 0x7fed3b0ade50>,\n",
       " <email.message.EmailMessage at 0x7fed3b0ad760>,\n",
       " <email.message.EmailMessage at 0x7fed3b0ad6a0>,\n",
       " <email.message.EmailMessage at 0x7fed3b0ada30>,\n",
       " <email.message.EmailMessage at 0x7fed3b0ad0a0>,\n",
       " <email.message.EmailMessage at 0x7fed3b0ad790>,\n",
       " <email.message.EmailMessage at 0x7fed3b0ad6d0>,\n",
       " <email.message.EmailMessage at 0x7fed3b0adc40>,\n",
       " <email.message.EmailMessage at 0x7fed3b0ad520>,\n",
       " <email.message.EmailMessage at 0x7fed3b0ad130>,\n",
       " <email.message.EmailMessage at 0x7fed3b0ada00>,\n",
       " <email.message.EmailMessage at 0x7fed3b0ad250>,\n",
       " <email.message.EmailMessage at 0x7fed3b0ad3d0>,\n",
       " <email.message.EmailMessage at 0x7fed3b0ade80>,\n",
       " <email.message.EmailMessage at 0x7fed3b0ad040>,\n",
       " <email.message.EmailMessage at 0x7fed3b0adee0>,\n",
       " <email.message.EmailMessage at 0x7fed3b0ad400>,\n",
       " <email.message.EmailMessage at 0x7fed3b0adeb0>,\n",
       " <email.message.EmailMessage at 0x7fed3b0add30>,\n",
       " <email.message.EmailMessage at 0x7fed3b0ad580>,\n",
       " <email.message.EmailMessage at 0x7fed3b0addc0>,\n",
       " <email.message.EmailMessage at 0x7fed3b0adb50>,\n",
       " <email.message.EmailMessage at 0x7fed3b0ad2b0>,\n",
       " <email.message.EmailMessage at 0x7fed3b0ad490>,\n",
       " <email.message.EmailMessage at 0x7fed3b0ada60>,\n",
       " <email.message.EmailMessage at 0x7fed3b0adc70>,\n",
       " <email.message.EmailMessage at 0x7fed3b0ad700>,\n",
       " <email.message.EmailMessage at 0x7fed3b0ad1f0>,\n",
       " <email.message.EmailMessage at 0x7fed3b0adb80>,\n",
       " <email.message.EmailMessage at 0x7fed3b0add00>,\n",
       " <email.message.EmailMessage at 0x7fed3b0ad970>,\n",
       " <email.message.EmailMessage at 0x7fed3b0adf40>,\n",
       " <email.message.EmailMessage at 0x7fed3b0ad4c0>,\n",
       " <email.message.EmailMessage at 0x7fed3b0ad910>,\n",
       " <email.message.EmailMessage at 0x7fed3b0ad3a0>,\n",
       " <email.message.EmailMessage at 0x7fed3b0adf10>,\n",
       " <email.message.EmailMessage at 0x7fed3b0ad730>,\n",
       " <email.message.EmailMessage at 0x7fed3b0adc10>,\n",
       " <email.message.EmailMessage at 0x7fed3b0ad310>,\n",
       " <email.message.EmailMessage at 0x7fed3b0ad370>,\n",
       " <email.message.EmailMessage at 0x7fed3b0ad850>,\n",
       " <email.message.EmailMessage at 0x7fed3b0ad280>,\n",
       " <email.message.EmailMessage at 0x7fed3b0adcd0>,\n",
       " <email.message.EmailMessage at 0x7fed3b0adfa0>,\n",
       " <email.message.EmailMessage at 0x7fed3b0ad550>,\n",
       " <email.message.EmailMessage at 0x7fed3b0ad2e0>,\n",
       " <email.message.EmailMessage at 0x7fed3b0ad7f0>,\n",
       " <email.message.EmailMessage at 0x7fed3b0ad220>,\n",
       " <email.message.EmailMessage at 0x7fed3b2bdeb0>,\n",
       " <email.message.EmailMessage at 0x7fed3b2bd130>,\n",
       " <email.message.EmailMessage at 0x7fed3b2bd3d0>,\n",
       " <email.message.EmailMessage at 0x7fed3b2bda30>,\n",
       " <email.message.EmailMessage at 0x7fed3b2bdbb0>,\n",
       " <email.message.EmailMessage at 0x7fed3b2bd5e0>,\n",
       " <email.message.EmailMessage at 0x7fed3b2bdb20>,\n",
       " <email.message.EmailMessage at 0x7fed3b2bdee0>,\n",
       " <email.message.EmailMessage at 0x7fed3b2bd0a0>,\n",
       " <email.message.EmailMessage at 0x7fed3b2bd6a0>,\n",
       " <email.message.EmailMessage at 0x7fed3b2bdca0>,\n",
       " <email.message.EmailMessage at 0x7fed3b2bd7c0>,\n",
       " <email.message.EmailMessage at 0x7fed3b2bdbe0>,\n",
       " <email.message.EmailMessage at 0x7fed3b2bd2e0>,\n",
       " <email.message.EmailMessage at 0x7fed3b2bdb80>,\n",
       " <email.message.EmailMessage at 0x7fed3b2bd2b0>,\n",
       " <email.message.EmailMessage at 0x7fed3b2bd6d0>,\n",
       " <email.message.EmailMessage at 0x7fed3b2bd550>,\n",
       " <email.message.EmailMessage at 0x7fed3b2bd790>,\n",
       " <email.message.EmailMessage at 0x7fed3b2bd370>,\n",
       " <email.message.EmailMessage at 0x7fed3b2bd8b0>,\n",
       " <email.message.EmailMessage at 0x7fed3b2bd5b0>,\n",
       " <email.message.EmailMessage at 0x7fed3b2bd640>,\n",
       " <email.message.EmailMessage at 0x7fed3b2bd520>,\n",
       " <email.message.EmailMessage at 0x7fed3b2bd880>,\n",
       " <email.message.EmailMessage at 0x7fed3b2bd340>,\n",
       " <email.message.EmailMessage at 0x7fed3b2bd460>,\n",
       " <email.message.EmailMessage at 0x7fed3b2bd040>,\n",
       " <email.message.EmailMessage at 0x7fed3b2bd310>,\n",
       " <email.message.EmailMessage at 0x7fed3b2bd070>,\n",
       " <email.message.EmailMessage at 0x7fed3b2bd940>,\n",
       " <email.message.EmailMessage at 0x7fed3b2bd3a0>,\n",
       " <email.message.EmailMessage at 0x7fed3b2bd670>,\n",
       " <email.message.EmailMessage at 0x7fed3b2bd970>,\n",
       " <email.message.EmailMessage at 0x7fed3b2bd1f0>,\n",
       " <email.message.EmailMessage at 0x7fed3b2bd8e0>,\n",
       " <email.message.EmailMessage at 0x7fed3b2bd100>,\n",
       " <email.message.EmailMessage at 0x7fed3b2bd430>,\n",
       " <email.message.EmailMessage at 0x7fed3b2bdc40>,\n",
       " <email.message.EmailMessage at 0x7fed3b2bdd90>,\n",
       " <email.message.EmailMessage at 0x7fed3b2bd190>,\n",
       " <email.message.EmailMessage at 0x7fed3b064fa0>,\n",
       " <email.message.EmailMessage at 0x7fed3b064220>,\n",
       " <email.message.EmailMessage at 0x7fed3b064eb0>,\n",
       " <email.message.EmailMessage at 0x7fed3b0641f0>,\n",
       " <email.message.EmailMessage at 0x7fed3b064670>,\n",
       " <email.message.EmailMessage at 0x7fed3b064610>,\n",
       " <email.message.EmailMessage at 0x7fed3b064820>,\n",
       " <email.message.EmailMessage at 0x7fed3b064340>,\n",
       " <email.message.EmailMessage at 0x7fed3b064790>,\n",
       " <email.message.EmailMessage at 0x7fed3b0649a0>,\n",
       " <email.message.EmailMessage at 0x7fed3b064970>,\n",
       " <email.message.EmailMessage at 0x7fed3b0649d0>,\n",
       " <email.message.EmailMessage at 0x7fed3b0644f0>,\n",
       " <email.message.EmailMessage at 0x7fed3b064490>,\n",
       " <email.message.EmailMessage at 0x7fed3b064f40>,\n",
       " <email.message.EmailMessage at 0x7fed3b064af0>,\n",
       " <email.message.EmailMessage at 0x7fed3b064880>,\n",
       " <email.message.EmailMessage at 0x7fed3b0640a0>,\n",
       " <email.message.EmailMessage at 0x7fed3b064c70>,\n",
       " <email.message.EmailMessage at 0x7fed3b064b20>,\n",
       " <email.message.EmailMessage at 0x7fed3b064520>,\n",
       " <email.message.EmailMessage at 0x7fed3b064ee0>,\n",
       " <email.message.EmailMessage at 0x7fed3b0643d0>,\n",
       " <email.message.EmailMessage at 0x7fed3b0643a0>,\n",
       " <email.message.EmailMessage at 0x7fed3b064d30>,\n",
       " <email.message.EmailMessage at 0x7fed3b064ca0>,\n",
       " <email.message.EmailMessage at 0x7fed3b064df0>,\n",
       " <email.message.EmailMessage at 0x7fed3b064a60>,\n",
       " <email.message.EmailMessage at 0x7fed3b064e50>,\n",
       " <email.message.EmailMessage at 0x7fed3b064d60>,\n",
       " <email.message.EmailMessage at 0x7fed3b064310>,\n",
       " <email.message.EmailMessage at 0x7fed3b0645e0>,\n",
       " <email.message.EmailMessage at 0x7fed3b064910>,\n",
       " <email.message.EmailMessage at 0x7fed3b064a90>,\n",
       " <email.message.EmailMessage at 0x7fed3b064d00>,\n",
       " <email.message.EmailMessage at 0x7fed3b064a30>,\n",
       " <email.message.EmailMessage at 0x7fed3b064b50>,\n",
       " <email.message.EmailMessage at 0x7fed3b0647f0>,\n",
       " <email.message.EmailMessage at 0x7fed3b0646a0>,\n",
       " <email.message.EmailMessage at 0x7fed3b1f4490>,\n",
       " <email.message.EmailMessage at 0x7fed3b1f4610>,\n",
       " <email.message.EmailMessage at 0x7fed3b1f44c0>,\n",
       " <email.message.EmailMessage at 0x7fed3b1f4a90>,\n",
       " <email.message.EmailMessage at 0x7fed3b1f4850>,\n",
       " <email.message.EmailMessage at 0x7fed3b1f4eb0>,\n",
       " <email.message.EmailMessage at 0x7fed3b1f4340>,\n",
       " <email.message.EmailMessage at 0x7fed3b1f4d90>,\n",
       " <email.message.EmailMessage at 0x7fed3b1f4dc0>,\n",
       " <email.message.EmailMessage at 0x7fed3b1f4730>,\n",
       " <email.message.EmailMessage at 0x7fed3b1f4ca0>,\n",
       " <email.message.EmailMessage at 0x7fed3b1f4790>,\n",
       " <email.message.EmailMessage at 0x7fed3b1f4c70>,\n",
       " <email.message.EmailMessage at 0x7fed3b1f44f0>,\n",
       " <email.message.EmailMessage at 0x7fed3b1f41c0>,\n",
       " <email.message.EmailMessage at 0x7fed3b1f4b20>,\n",
       " <email.message.EmailMessage at 0x7fed3b1f4400>,\n",
       " <email.message.EmailMessage at 0x7fed3b1f45b0>,\n",
       " <email.message.EmailMessage at 0x7fed3b1f4b80>,\n",
       " <email.message.EmailMessage at 0x7fed3b1f4880>,\n",
       " <email.message.EmailMessage at 0x7fed3b1f4760>,\n",
       " <email.message.EmailMessage at 0x7fed3b1f4b50>,\n",
       " <email.message.EmailMessage at 0x7fed3b1f48e0>,\n",
       " <email.message.EmailMessage at 0x7fed3b1f4250>,\n",
       " <email.message.EmailMessage at 0x7fed3b1f4310>,\n",
       " <email.message.EmailMessage at 0x7fed3b1f4be0>,\n",
       " <email.message.EmailMessage at 0x7fed3b1f4fd0>,\n",
       " <email.message.EmailMessage at 0x7fed3b1f4f70>,\n",
       " <email.message.EmailMessage at 0x7fed3b1f42b0>,\n",
       " <email.message.EmailMessage at 0x7fed3b1f4f10>,\n",
       " <email.message.EmailMessage at 0x7fed3b1f4d60>,\n",
       " <email.message.EmailMessage at 0x7fed3b1f4100>,\n",
       " <email.message.EmailMessage at 0x7fed3b1f4ac0>,\n",
       " <email.message.EmailMessage at 0x7fed3b1f4820>,\n",
       " <email.message.EmailMessage at 0x7fed395d0b80>,\n",
       " <email.message.EmailMessage at 0x7fed395d0820>,\n",
       " <email.message.EmailMessage at 0x7fed395d0bb0>,\n",
       " <email.message.EmailMessage at 0x7fed3b1f47f0>,\n",
       " <email.message.EmailMessage at 0x7fed3b1f4a00>,\n",
       " <email.message.EmailMessage at 0x7fed3b1f4130>,\n",
       " <email.message.EmailMessage at 0x7fed3b1f4a30>,\n",
       " <email.message.EmailMessage at 0x7fed3b1f4d00>,\n",
       " <email.message.EmailMessage at 0x7fed3b1f4670>,\n",
       " <email.message.EmailMessage at 0x7fed3b1f43d0>,\n",
       " <email.message.EmailMessage at 0x7fed3b1f4940>,\n",
       " <email.message.EmailMessage at 0x7fed3b1f4c40>,\n",
       " <email.message.EmailMessage at 0x7fed3b1f4910>,\n",
       " <email.message.EmailMessage at 0x7fed3b1f47c0>,\n",
       " <email.message.EmailMessage at 0x7fed3b1f4970>,\n",
       " <email.message.EmailMessage at 0x7fed3b1f4c10>,\n",
       " <email.message.EmailMessage at 0x7fed3b1f4550>,\n",
       " <email.message.EmailMessage at 0x7fed3b1f40a0>,\n",
       " <email.message.EmailMessage at 0x7fed3b1f4a60>,\n",
       " <email.message.EmailMessage at 0x7fed3b1f42e0>,\n",
       " <email.message.EmailMessage at 0x7fed3b1f4040>,\n",
       " <email.message.EmailMessage at 0x7fed3b1f4af0>,\n",
       " <email.message.EmailMessage at 0x7fed3b0146d0>,\n",
       " <email.message.EmailMessage at 0x7fed3b014a00>,\n",
       " <email.message.EmailMessage at 0x7fed3b014a90>,\n",
       " <email.message.EmailMessage at 0x7fed3b014f40>,\n",
       " <email.message.EmailMessage at 0x7fed3b014d00>,\n",
       " <email.message.EmailMessage at 0x7fed3b014340>,\n",
       " <email.message.EmailMessage at 0x7fed3b014e50>,\n",
       " <email.message.EmailMessage at 0x7fed3b014490>,\n",
       " <email.message.EmailMessage at 0x7fed3b0148e0>,\n",
       " <email.message.EmailMessage at 0x7fed3b014610>,\n",
       " <email.message.EmailMessage at 0x7fed3b014520>,\n",
       " <email.message.EmailMessage at 0x7fed3b014910>,\n",
       " <email.message.EmailMessage at 0x7fed3b0144f0>,\n",
       " <email.message.EmailMessage at 0x7fed3b014760>,\n",
       " <email.message.EmailMessage at 0x7fed3b014b20>,\n",
       " <email.message.EmailMessage at 0x7fed3b014b50>,\n",
       " <email.message.EmailMessage at 0x7fed3b014f10>,\n",
       " <email.message.EmailMessage at 0x7fed3b014d60>,\n",
       " <email.message.EmailMessage at 0x7fed3b0142e0>,\n",
       " <email.message.EmailMessage at 0x7fed3b014970>,\n",
       " <email.message.EmailMessage at 0x7fed3b0149d0>,\n",
       " <email.message.EmailMessage at 0x7fed3b014d90>,\n",
       " <email.message.EmailMessage at 0x7fed3b0140a0>,\n",
       " <email.message.EmailMessage at 0x7fed3b014070>,\n",
       " <email.message.EmailMessage at 0x7fed3b014a60>,\n",
       " <email.message.EmailMessage at 0x7fed3b014dc0>,\n",
       " <email.message.EmailMessage at 0x7fed3b014730>,\n",
       " <email.message.EmailMessage at 0x7fed3b014250>,\n",
       " <email.message.EmailMessage at 0x7fed3b0141f0>,\n",
       " <email.message.EmailMessage at 0x7fed3b0142b0>,\n",
       " <email.message.EmailMessage at 0x7fed3b014d30>,\n",
       " <email.message.EmailMessage at 0x7fed3b014be0>,\n",
       " <email.message.EmailMessage at 0x7fed3b014100>,\n",
       " <email.message.EmailMessage at 0x7fed3b014a30>,\n",
       " <email.message.EmailMessage at 0x7fed3b0149a0>,\n",
       " <email.message.EmailMessage at 0x7fed3b014160>,\n",
       " <email.message.EmailMessage at 0x7fed3b014190>,\n",
       " <email.message.EmailMessage at 0x7fed395b8790>,\n",
       " <email.message.EmailMessage at 0x7fed3b014bb0>,\n",
       " <email.message.EmailMessage at 0x7fed3b014e80>,\n",
       " <email.message.EmailMessage at 0x7fed3b0143d0>,\n",
       " <email.message.EmailMessage at 0x7fed3b014af0>,\n",
       " <email.message.EmailMessage at 0x7fed3b0145b0>,\n",
       " <email.message.EmailMessage at 0x7fed3b014040>,\n",
       " <email.message.EmailMessage at 0x7fed3b014700>,\n",
       " <email.message.EmailMessage at 0x7fed3a51beb0>,\n",
       " <email.message.EmailMessage at 0x7fed3a51bfa0>,\n",
       " <email.message.EmailMessage at 0x7fed3a51bbe0>,\n",
       " <email.message.EmailMessage at 0x7fed3a51b280>,\n",
       " <email.message.EmailMessage at 0x7fed3a51bcd0>,\n",
       " <email.message.EmailMessage at 0x7fed3a51bc70>,\n",
       " <email.message.EmailMessage at 0x7fed3a51b8e0>,\n",
       " <email.message.EmailMessage at 0x7fed3a51bee0>,\n",
       " <email.message.EmailMessage at 0x7fed3a51be50>,\n",
       " <email.message.EmailMessage at 0x7fed3a51b520>,\n",
       " <email.message.EmailMessage at 0x7fed3a51bd00>,\n",
       " <email.message.EmailMessage at 0x7fed3a51bb80>,\n",
       " <email.message.EmailMessage at 0x7fed3b03c2e0>,\n",
       " <email.message.EmailMessage at 0x7fed3b076bb0>,\n",
       " <email.message.EmailMessage at 0x7fed3b0769a0>,\n",
       " <email.message.EmailMessage at 0x7fed3b076ca0>,\n",
       " <email.message.EmailMessage at 0x7fed3b076a60>,\n",
       " <email.message.EmailMessage at 0x7fed3b076940>,\n",
       " <email.message.EmailMessage at 0x7fed3b076370>,\n",
       " <email.message.EmailMessage at 0x7fed3b076220>,\n",
       " <email.message.EmailMessage at 0x7fed3b076760>,\n",
       " <email.message.EmailMessage at 0x7fed3b0763d0>,\n",
       " <email.message.EmailMessage at 0x7fed3b076af0>,\n",
       " <email.message.EmailMessage at 0x7fed3b076310>,\n",
       " <email.message.EmailMessage at 0x7fed3b076040>,\n",
       " <email.message.EmailMessage at 0x7fed3b0769d0>,\n",
       " <email.message.EmailMessage at 0x7fed3b076100>,\n",
       " <email.message.EmailMessage at 0x7fed3b076b80>,\n",
       " <email.message.EmailMessage at 0x7fed3b076ac0>,\n",
       " <email.message.EmailMessage at 0x7fed3b076be0>,\n",
       " <email.message.EmailMessage at 0x7fed3b0768e0>,\n",
       " <email.message.EmailMessage at 0x7fed3b076dc0>,\n",
       " <email.message.EmailMessage at 0x7fed3b076d00>,\n",
       " <email.message.EmailMessage at 0x7fed3b076250>,\n",
       " <email.message.EmailMessage at 0x7fed3b0764c0>,\n",
       " <email.message.EmailMessage at 0x7fed3b0760a0>,\n",
       " <email.message.EmailMessage at 0x7fed3a3f8070>,\n",
       " <email.message.EmailMessage at 0x7fed3a3f84c0>,\n",
       " <email.message.EmailMessage at 0x7fed3a3f82b0>,\n",
       " <email.message.EmailMessage at 0x7fed3a3f8c10>,\n",
       " <email.message.EmailMessage at 0x7fed3a3f8730>,\n",
       " <email.message.EmailMessage at 0x7fed3a3f8df0>,\n",
       " <email.message.EmailMessage at 0x7fed3a3f8640>,\n",
       " <email.message.EmailMessage at 0x7fed3a3f8550>,\n",
       " <email.message.EmailMessage at 0x7fed39fad5b0>,\n",
       " <email.message.EmailMessage at 0x7fed39fad280>,\n",
       " <email.message.EmailMessage at 0x7fed39fad250>,\n",
       " <email.message.EmailMessage at 0x7fed39fadbe0>,\n",
       " <email.message.EmailMessage at 0x7fed39fad460>,\n",
       " <email.message.EmailMessage at 0x7fed39fad730>,\n",
       " <email.message.EmailMessage at 0x7fed39faddc0>,\n",
       " <email.message.EmailMessage at 0x7fed39fadcd0>,\n",
       " <email.message.EmailMessage at 0x7fed39fad2e0>,\n",
       " <email.message.EmailMessage at 0x7fed39fad190>,\n",
       " <email.message.EmailMessage at 0x7fed39fadb80>,\n",
       " <email.message.EmailMessage at 0x7fed3b08ff70>,\n",
       " <email.message.EmailMessage at 0x7fed3b08fd30>,\n",
       " <email.message.EmailMessage at 0x7fed3b08f9d0>,\n",
       " <email.message.EmailMessage at 0x7fed3b08f340>,\n",
       " <email.message.EmailMessage at 0x7fed3b08fca0>,\n",
       " <email.message.EmailMessage at 0x7fed3b08f6d0>,\n",
       " <email.message.EmailMessage at 0x7fed3b0a3d00>,\n",
       " <email.message.EmailMessage at 0x7fed3b0a3280>,\n",
       " <email.message.EmailMessage at 0x7fed3b0a3dc0>,\n",
       " <email.message.EmailMessage at 0x7fed3b0a3730>,\n",
       " <email.message.EmailMessage at 0x7fed3b0a3460>,\n",
       " <email.message.EmailMessage at 0x7fed3b0a3a00>,\n",
       " <email.message.EmailMessage at 0x7fed3b0a3970>,\n",
       " <email.message.EmailMessage at 0x7fed3b0a3490>,\n",
       " <email.message.EmailMessage at 0x7fed3b0a3ac0>,\n",
       " <email.message.EmailMessage at 0x7fed3b0a3910>,\n",
       " <email.message.EmailMessage at 0x7fed3b0a3eb0>,\n",
       " <email.message.EmailMessage at 0x7fed3b0a3a60>,\n",
       " <email.message.EmailMessage at 0x7fed3b0a35b0>,\n",
       " <email.message.EmailMessage at 0x7fed3b0a3190>,\n",
       " <email.message.EmailMessage at 0x7fed3b0a27f0>,\n",
       " <email.message.EmailMessage at 0x7fed3b0a2ac0>,\n",
       " <email.message.EmailMessage at 0x7fed3b0a2850>,\n",
       " <email.message.EmailMessage at 0x7fed3b0a2e50>,\n",
       " <email.message.EmailMessage at 0x7fed3b0a2100>,\n",
       " <email.message.EmailMessage at 0x7fed3b0a25e0>,\n",
       " <email.message.EmailMessage at 0x7fed3b0a2880>,\n",
       " <email.message.EmailMessage at 0x7fed3b0a25b0>,\n",
       " <email.message.EmailMessage at 0x7fed3b0a2340>,\n",
       " <email.message.EmailMessage at 0x7fed3b0a2280>,\n",
       " <email.message.EmailMessage at 0x7fed3b0a2c10>,\n",
       " <email.message.EmailMessage at 0x7fed3b0a24f0>,\n",
       " <email.message.EmailMessage at 0x7fed3b2e0340>,\n",
       " <email.message.EmailMessage at 0x7fed3b2e0fa0>,\n",
       " <email.message.EmailMessage at 0x7fed3b2e0190>,\n",
       " <email.message.EmailMessage at 0x7fed3b2e0940>,\n",
       " <email.message.EmailMessage at 0x7fed3b2e0d00>,\n",
       " <email.message.EmailMessage at 0x7fed3b2e04c0>,\n",
       " <email.message.EmailMessage at 0x7fed3b2e00a0>,\n",
       " <email.message.EmailMessage at 0x7fed3b2e0f70>,\n",
       " <email.message.EmailMessage at 0x7fed3b2e0af0>,\n",
       " <email.message.EmailMessage at 0x7fed3b2e09d0>,\n",
       " <email.message.EmailMessage at 0x7fed3b2e08e0>,\n",
       " <email.message.EmailMessage at 0x7fed3b2e06d0>,\n",
       " <email.message.EmailMessage at 0x7fed3b2e0880>,\n",
       " <email.message.EmailMessage at 0x7fed3b2e0c40>,\n",
       " <email.message.EmailMessage at 0x7fed3b2e0820>,\n",
       " <email.message.EmailMessage at 0x7fed3b2e07c0>,\n",
       " <email.message.EmailMessage at 0x7fed3b2e0ac0>,\n",
       " <email.message.EmailMessage at 0x7fed3b2e02b0>,\n",
       " <email.message.EmailMessage at 0x7fed3b2e0eb0>,\n",
       " <email.message.EmailMessage at 0x7fed3b2e07f0>,\n",
       " <email.message.EmailMessage at 0x7fed3b2e0850>,\n",
       " <email.message.EmailMessage at 0x7fed3b09a6d0>,\n",
       " <email.message.EmailMessage at 0x7fed3b09a1f0>,\n",
       " <email.message.EmailMessage at 0x7fed3b09a460>,\n",
       " <email.message.EmailMessage at 0x7fed3b09a520>,\n",
       " <email.message.EmailMessage at 0x7fed3b09a0a0>,\n",
       " <email.message.EmailMessage at 0x7fed3b09a4f0>,\n",
       " <email.message.EmailMessage at 0x7fed3b09aa00>,\n",
       " <email.message.EmailMessage at 0x7fed3b09a6a0>,\n",
       " <email.message.EmailMessage at 0x7fed3b09a760>,\n",
       " <email.message.EmailMessage at 0x7fed3b2b7b20>,\n",
       " <email.message.EmailMessage at 0x7fed3b2b7a30>,\n",
       " <email.message.EmailMessage at 0x7fed3b2b7eb0>,\n",
       " <email.message.EmailMessage at 0x7fed3b2b76d0>,\n",
       " <email.message.EmailMessage at 0x7fed3b2b71c0>,\n",
       " <email.message.EmailMessage at 0x7fed3b2d3250>,\n",
       " <email.message.EmailMessage at 0x7fed3b2d31f0>,\n",
       " <email.message.EmailMessage at 0x7fed3b2d3e20>,\n",
       " <email.message.EmailMessage at 0x7fed3b2d3c10>,\n",
       " <email.message.EmailMessage at 0x7fed3b2d3c70>,\n",
       " <email.message.EmailMessage at 0x7fed3b2d3580>,\n",
       " <email.message.EmailMessage at 0x7fed3b2d34c0>,\n",
       " <email.message.EmailMessage at 0x7fed3b2d39a0>,\n",
       " <email.message.EmailMessage at 0x7fed3b2d3f40>,\n",
       " <email.message.EmailMessage at 0x7fed3b2d3280>,\n",
       " <email.message.EmailMessage at 0x7fed3b2d3940>,\n",
       " <email.message.EmailMessage at 0x7fed3b2d3610>,\n",
       " <email.message.EmailMessage at 0x7fed3b2d3c40>,\n",
       " <email.message.EmailMessage at 0x7fed3b2d3a90>,\n",
       " <email.message.EmailMessage at 0x7fed3b2d34f0>,\n",
       " <email.message.EmailMessage at 0x7fed3b2d3310>,\n",
       " <email.message.EmailMessage at 0x7fed3b2d3970>,\n",
       " <email.message.EmailMessage at 0x7fed3b2d3fa0>,\n",
       " <email.message.EmailMessage at 0x7fed3b22b760>,\n",
       " <email.message.EmailMessage at 0x7fed3b22bca0>,\n",
       " <email.message.EmailMessage at 0x7fed3b22b8e0>,\n",
       " <email.message.EmailMessage at 0x7fed3b22b4f0>,\n",
       " <email.message.EmailMessage at 0x7fed3b22b910>,\n",
       " <email.message.EmailMessage at 0x7fed3b22b280>,\n",
       " <email.message.EmailMessage at 0x7fed3b22b460>,\n",
       " <email.message.EmailMessage at 0x7fed3b22b640>,\n",
       " <email.message.EmailMessage at 0x7fed3b22b670>,\n",
       " <email.message.EmailMessage at 0x7fed3b22baf0>,\n",
       " <email.message.EmailMessage at 0x7fed3b22bd00>,\n",
       " <email.message.EmailMessage at 0x7fed3b22bee0>,\n",
       " <email.message.EmailMessage at 0x7fed3b22b1c0>,\n",
       " <email.message.EmailMessage at 0x7fed3b22b040>,\n",
       " <email.message.EmailMessage at 0x7fed3b22bac0>,\n",
       " <email.message.EmailMessage at 0x7fed3b22b610>,\n",
       " <email.message.EmailMessage at 0x7fed3b22b0d0>,\n",
       " <email.message.EmailMessage at 0x7fed3b22bb50>,\n",
       " <email.message.EmailMessage at 0x7fed3b22b0a0>,\n",
       " <email.message.EmailMessage at 0x7fed3b22b250>,\n",
       " <email.message.EmailMessage at 0x7fed3b22b7c0>,\n",
       " <email.message.EmailMessage at 0x7fed3b22b100>,\n",
       " <email.message.EmailMessage at 0x7fed3b2dc4f0>,\n",
       " <email.message.EmailMessage at 0x7fed3b2dcb20>,\n",
       " <email.message.EmailMessage at 0x7fed3b2dc760>,\n",
       " <email.message.EmailMessage at 0x7fed3b2dc820>,\n",
       " <email.message.EmailMessage at 0x7fed3b2dc8b0>,\n",
       " <email.message.EmailMessage at 0x7fed3b2dc400>,\n",
       " <email.message.EmailMessage at 0x7fed3b2dc550>,\n",
       " <email.message.EmailMessage at 0x7fed3b2dc9a0>,\n",
       " <email.message.EmailMessage at 0x7fed3b2dc130>,\n",
       " <email.message.EmailMessage at 0x7fed3b2dcbe0>,\n",
       " <email.message.EmailMessage at 0x7fed3b2dcf40>,\n",
       " <email.message.EmailMessage at 0x7fed3b2dc3d0>,\n",
       " <email.message.EmailMessage at 0x7fed3b2dc940>,\n",
       " <email.message.EmailMessage at 0x7fed3b2dc280>,\n",
       " <email.message.EmailMessage at 0x7fed3b2c34c0>,\n",
       " <email.message.EmailMessage at 0x7fed3b2c3340>,\n",
       " <email.message.EmailMessage at 0x7fed3b2c3eb0>,\n",
       " <email.message.EmailMessage at 0x7fed3b2c3b80>,\n",
       " <email.message.EmailMessage at 0x7fed3b2c31f0>,\n",
       " <email.message.EmailMessage at 0x7fed3b2c3d90>,\n",
       " <email.message.EmailMessage at 0x7fed3b2c30d0>,\n",
       " <email.message.EmailMessage at 0x7fed3b2c3760>,\n",
       " <email.message.EmailMessage at 0x7fed3b2c32e0>,\n",
       " <email.message.EmailMessage at 0x7fed3b2c39d0>,\n",
       " <email.message.EmailMessage at 0x7fed3b2c3f10>,\n",
       " <email.message.EmailMessage at 0x7fed3b2c36a0>,\n",
       " <email.message.EmailMessage at 0x7fed3b2c3850>,\n",
       " <email.message.EmailMessage at 0x7fed3b2c37f0>,\n",
       " <email.message.EmailMessage at 0x7fed3b2c3610>,\n",
       " <email.message.EmailMessage at 0x7fed3b2c33a0>,\n",
       " <email.message.EmailMessage at 0x7fed3b2c3a00>,\n",
       " <email.message.EmailMessage at 0x7fed3b2c3910>,\n",
       " <email.message.EmailMessage at 0x7fed3b2c32b0>,\n",
       " <email.message.EmailMessage at 0x7fed3b2c3f70>,\n",
       " <email.message.EmailMessage at 0x7fed3b0a0880>,\n",
       " <email.message.EmailMessage at 0x7fed3b0a0f40>,\n",
       " <email.message.EmailMessage at 0x7fed3b0a0e80>,\n",
       " <email.message.EmailMessage at 0x7fed3b0a02b0>,\n",
       " <email.message.EmailMessage at 0x7fed3b20f700>,\n",
       " <email.message.EmailMessage at 0x7fed3b20f790>,\n",
       " <email.message.EmailMessage at 0x7fed3b20fa30>,\n",
       " <email.message.EmailMessage at 0x7fed3b20f460>,\n",
       " <email.message.EmailMessage at 0x7fed3b20f070>,\n",
       " <email.message.EmailMessage at 0x7fed3b20f4f0>,\n",
       " <email.message.EmailMessage at 0x7fed3b20f910>,\n",
       " <email.message.EmailMessage at 0x7fed3b20fa00>,\n",
       " <email.message.EmailMessage at 0x7fed3b20ffa0>,\n",
       " <email.message.EmailMessage at 0x7fed3b20f2e0>,\n",
       " <email.message.EmailMessage at 0x7fed3b20ffd0>,\n",
       " <email.message.EmailMessage at 0x7fed3b20fd00>,\n",
       " <email.message.EmailMessage at 0x7fed3b20f310>,\n",
       " <email.message.EmailMessage at 0x7fed3b20f550>,\n",
       " <email.message.EmailMessage at 0x7fed3b20f580>,\n",
       " <email.message.EmailMessage at 0x7fed3b20f9d0>,\n",
       " <email.message.EmailMessage at 0x7fed3b20f100>,\n",
       " <email.message.EmailMessage at 0x7fed3b20ff10>,\n",
       " <email.message.EmailMessage at 0x7fed3b20fe50>,\n",
       " <email.message.EmailMessage at 0x7fed3b20f5b0>,\n",
       " <email.message.EmailMessage at 0x7fed3b20f760>,\n",
       " <email.message.EmailMessage at 0x7fed3b20f160>,\n",
       " <email.message.EmailMessage at 0x7fed3b20f0a0>,\n",
       " <email.message.EmailMessage at 0x7fed3b20fc40>,\n",
       " <email.message.EmailMessage at 0x7fed3b20ff40>,\n",
       " <email.message.EmailMessage at 0x7fed3b20f640>,\n",
       " <email.message.EmailMessage at 0x7fed3b20fdf0>,\n",
       " <email.message.EmailMessage at 0x7fed3b20f670>,\n",
       " <email.message.EmailMessage at 0x7fed3b20f610>,\n",
       " <email.message.EmailMessage at 0x7fed3b20f880>,\n",
       " <email.message.EmailMessage at 0x7fed3b20f040>,\n",
       " <email.message.EmailMessage at 0x7fed3b20f1f0>,\n",
       " <email.message.EmailMessage at 0x7fed3b20fdc0>,\n",
       " <email.message.EmailMessage at 0x7fed3b20f190>,\n",
       " <email.message.EmailMessage at 0x7fed3b20fd90>,\n",
       " <email.message.EmailMessage at 0x7fed3b20f7f0>,\n",
       " <email.message.EmailMessage at 0x7fed3b20ff70>,\n",
       " <email.message.EmailMessage at 0x7fed3b20fcd0>,\n",
       " <email.message.EmailMessage at 0x7fed3b20fc70>,\n",
       " <email.message.EmailMessage at 0x7fed3b20faf0>,\n",
       " <email.message.EmailMessage at 0x7fed3a0b14c0>,\n",
       " <email.message.EmailMessage at 0x7fed3a0b1dc0>,\n",
       " <email.message.EmailMessage at 0x7fed3a0b1670>,\n",
       " <email.message.EmailMessage at 0x7fed3a0b1640>,\n",
       " <email.message.EmailMessage at 0x7fed3a0b1e50>,\n",
       " <email.message.EmailMessage at 0x7fed3a0b1310>,\n",
       " <email.message.EmailMessage at 0x7fed3a0b1af0>,\n",
       " <email.message.EmailMessage at 0x7fed3a0b1fd0>,\n",
       " <email.message.EmailMessage at 0x7fed3a0b13d0>,\n",
       " <email.message.EmailMessage at 0x7fed3a0b1c70>,\n",
       " <email.message.EmailMessage at 0x7fed3a0b1d30>,\n",
       " <email.message.EmailMessage at 0x7fed3a0b1700>,\n",
       " <email.message.EmailMessage at 0x7fed3a0b1490>,\n",
       " <email.message.EmailMessage at 0x7fed3a0b1790>,\n",
       " <email.message.EmailMessage at 0x7fed3a0b1eb0>,\n",
       " <email.message.EmailMessage at 0x7fed3a0b1d60>,\n",
       " <email.message.EmailMessage at 0x7fed3a0b1850>,\n",
       " <email.message.EmailMessage at 0x7fed3a0b13a0>,\n",
       " <email.message.EmailMessage at 0x7fed3a0b1b80>,\n",
       " <email.message.EmailMessage at 0x7fed3a0b1b20>,\n",
       " <email.message.EmailMessage at 0x7fed3a0b1f70>,\n",
       " <email.message.EmailMessage at 0x7fed3a0b1160>,\n",
       " <email.message.EmailMessage at 0x7fed3a0b1460>,\n",
       " <email.message.EmailMessage at 0x7fed3a0b1040>,\n",
       " <email.message.EmailMessage at 0x7fed3a0b1b50>,\n",
       " <email.message.EmailMessage at 0x7fed3a4c83a0>,\n",
       " <email.message.EmailMessage at 0x7fed3a4c8bb0>,\n",
       " <email.message.EmailMessage at 0x7fed3a4c89a0>,\n",
       " <email.message.EmailMessage at 0x7fed3a4c81c0>,\n",
       " <email.message.EmailMessage at 0x7fed3a4c8880>,\n",
       " <email.message.EmailMessage at 0x7fed3a4c8e20>,\n",
       " <email.message.EmailMessage at 0x7fed3a4c8be0>,\n",
       " <email.message.EmailMessage at 0x7fed3a4c8430>,\n",
       " <email.message.EmailMessage at 0x7fed3a4c8040>,\n",
       " <email.message.EmailMessage at 0x7fed3a4c85b0>,\n",
       " <email.message.EmailMessage at 0x7fed3a4c8610>,\n",
       " <email.message.EmailMessage at 0x7fed3a4c8b20>,\n",
       " <email.message.EmailMessage at 0x7fed3a4c8df0>,\n",
       " <email.message.EmailMessage at 0x7fed3a4c8100>,\n",
       " <email.message.EmailMessage at 0x7fed3a4c8b80>,\n",
       " <email.message.EmailMessage at 0x7fed3a4c8d60>,\n",
       " <email.message.EmailMessage at 0x7fed3a4c8c70>,\n",
       " <email.message.EmailMessage at 0x7fed3a4c8640>,\n",
       " <email.message.EmailMessage at 0x7fed3a4c8ac0>,\n",
       " <email.message.EmailMessage at 0x7fed3a0a4730>,\n",
       " <email.message.EmailMessage at 0x7fed3a0a4ee0>,\n",
       " <email.message.EmailMessage at 0x7fed3a0a4fd0>,\n",
       " <email.message.EmailMessage at 0x7fed3a0a44f0>,\n",
       " <email.message.EmailMessage at 0x7fed3a0a4ca0>,\n",
       " <email.message.EmailMessage at 0x7fed3a0a4160>,\n",
       " <email.message.EmailMessage at 0x7fed3a0a40a0>,\n",
       " <email.message.EmailMessage at 0x7fed3a0a35b0>,\n",
       " <email.message.EmailMessage at 0x7fed3a0a3c10>,\n",
       " <email.message.EmailMessage at 0x7fed3a0a3a60>,\n",
       " <email.message.EmailMessage at 0x7fed3a0a3040>,\n",
       " <email.message.EmailMessage at 0x7fed3a0a3820>,\n",
       " <email.message.EmailMessage at 0x7fed3a0a3370>,\n",
       " <email.message.EmailMessage at 0x7fed3a0a3a00>,\n",
       " <email.message.EmailMessage at 0x7fed3a0a3850>,\n",
       " <email.message.EmailMessage at 0x7fed3a0a34f0>,\n",
       " <email.message.EmailMessage at 0x7fed3a0a3580>,\n",
       " <email.message.EmailMessage at 0x7fed3a0a33d0>,\n",
       " <email.message.EmailMessage at 0x7fed3a0a3d30>,\n",
       " <email.message.EmailMessage at 0x7fed3a0a3250>,\n",
       " <email.message.EmailMessage at 0x7fed3a0a30a0>,\n",
       " <email.message.EmailMessage at 0x7fed3a0a3af0>,\n",
       " <email.message.EmailMessage at 0x7fed3a0a3d00>,\n",
       " <email.message.EmailMessage at 0x7fed3a0a36d0>,\n",
       " <email.message.EmailMessage at 0x7fed3a0a3b20>,\n",
       " <email.message.EmailMessage at 0x7fed3a0a3ac0>,\n",
       " <email.message.EmailMessage at 0x7fed3a0a39d0>,\n",
       " <email.message.EmailMessage at 0x7fed3a0a37c0>,\n",
       " <email.message.EmailMessage at 0x7fed3a0a3d90>,\n",
       " <email.message.EmailMessage at 0x7fed3a0a3280>,\n",
       " <email.message.EmailMessage at 0x7fed3a0a3dc0>,\n",
       " <email.message.EmailMessage at 0x7fed3a0a3550>,\n",
       " <email.message.EmailMessage at 0x7fed3a0a3760>,\n",
       " <email.message.EmailMessage at 0x7fed3a13b820>,\n",
       " <email.message.EmailMessage at 0x7fed3a13bfa0>,\n",
       " <email.message.EmailMessage at 0x7fed3a13bb20>,\n",
       " <email.message.EmailMessage at 0x7fed3a13b220>,\n",
       " <email.message.EmailMessage at 0x7fed3a13b400>,\n",
       " <email.message.EmailMessage at 0x7fed3a13bf40>,\n",
       " <email.message.EmailMessage at 0x7fed3a13b370>,\n",
       " <email.message.EmailMessage at 0x7fed3a13b7f0>,\n",
       " <email.message.EmailMessage at 0x7fed3a13b730>,\n",
       " <email.message.EmailMessage at 0x7fed3a13bd30>,\n",
       " <email.message.EmailMessage at 0x7fed3a13b4c0>,\n",
       " <email.message.EmailMessage at 0x7fed3a13be20>,\n",
       " <email.message.EmailMessage at 0x7fed3a13b970>,\n",
       " <email.message.EmailMessage at 0x7fed3a13b850>,\n",
       " <email.message.EmailMessage at 0x7fed3a13b250>,\n",
       " <email.message.EmailMessage at 0x7fed3a13b640>,\n",
       " <email.message.EmailMessage at 0x7fed3a13b550>,\n",
       " <email.message.EmailMessage at 0x7fed3a13bdf0>,\n",
       " <email.message.EmailMessage at 0x7fed3a13b340>,\n",
       " <email.message.EmailMessage at 0x7fed3a13bb80>,\n",
       " <email.message.EmailMessage at 0x7fed3a13b8b0>,\n",
       " <email.message.EmailMessage at 0x7fed3a13bee0>,\n",
       " <email.message.EmailMessage at 0x7fed3a13b6d0>,\n",
       " <email.message.EmailMessage at 0x7fed3a13b940>,\n",
       " <email.message.EmailMessage at 0x7fed3b228160>,\n",
       " <email.message.EmailMessage at 0x7fed3b228400>,\n",
       " <email.message.EmailMessage at 0x7fed3b2289a0>,\n",
       " <email.message.EmailMessage at 0x7fed3b2288e0>,\n",
       " <email.message.EmailMessage at 0x7fed3b2280a0>,\n",
       " <email.message.EmailMessage at 0x7fed3b228040>,\n",
       " <email.message.EmailMessage at 0x7fed3b228610>,\n",
       " <email.message.EmailMessage at 0x7fed3b228d30>,\n",
       " <email.message.EmailMessage at 0x7fed3a35b640>,\n",
       " <email.message.EmailMessage at 0x7fed3a35b940>,\n",
       " <email.message.EmailMessage at 0x7fed3a35b100>,\n",
       " <email.message.EmailMessage at 0x7fed3a35b9a0>,\n",
       " <email.message.EmailMessage at 0x7fed3a35b880>,\n",
       " <email.message.EmailMessage at 0x7fed3a35b400>,\n",
       " <email.message.EmailMessage at 0x7fed3af69c70>,\n",
       " <email.message.EmailMessage at 0x7fed3af696d0>,\n",
       " <email.message.EmailMessage at 0x7fed3af69130>,\n",
       " <email.message.EmailMessage at 0x7fed3af69ca0>,\n",
       " <email.message.EmailMessage at 0x7fed3af692b0>,\n",
       " <email.message.EmailMessage at 0x7fed3a0a1640>,\n",
       " <email.message.EmailMessage at 0x7fed3a0a1d00>,\n",
       " <email.message.EmailMessage at 0x7fed3a0a1c10>,\n",
       " <email.message.EmailMessage at 0x7fed3a0a1700>,\n",
       " <email.message.EmailMessage at 0x7fed3a0a1e20>,\n",
       " <email.message.EmailMessage at 0x7fed3af69100>,\n",
       " <email.message.EmailMessage at 0x7fed3af69d00>,\n",
       " <email.message.EmailMessage at 0x7fed3af69d30>,\n",
       " <email.message.EmailMessage at 0x7fed3af69fa0>,\n",
       " <email.message.EmailMessage at 0x7fed3af69b80>,\n",
       " <email.message.EmailMessage at 0x7fed3af693a0>,\n",
       " <email.message.EmailMessage at 0x7fed3af69eb0>,\n",
       " <email.message.EmailMessage at 0x7fed3af69670>,\n",
       " <email.message.EmailMessage at 0x7fed3af69940>,\n",
       " <email.message.EmailMessage at 0x7fed3af692e0>,\n",
       " <email.message.EmailMessage at 0x7fed3a4d8640>,\n",
       " <email.message.EmailMessage at 0x7fed3a4d8b50>,\n",
       " <email.message.EmailMessage at 0x7fed3a4d8f40>,\n",
       " <email.message.EmailMessage at 0x7fed3a4d86a0>,\n",
       " <email.message.EmailMessage at 0x7fed3a4d8580>,\n",
       " <email.message.EmailMessage at 0x7fed3a4d85e0>,\n",
       " <email.message.EmailMessage at 0x7fed3a4d8af0>,\n",
       " <email.message.EmailMessage at 0x7fed3a4d8d30>,\n",
       " <email.message.EmailMessage at 0x7fed3a4d8c10>,\n",
       " <email.message.EmailMessage at 0x7fed3a0a1eb0>,\n",
       " <email.message.EmailMessage at 0x7fed39ea7df0>,\n",
       " <email.message.EmailMessage at 0x7fed39ea70a0>,\n",
       " <email.message.EmailMessage at 0x7fed39ea76a0>,\n",
       " <email.message.EmailMessage at 0x7fed39ea72b0>,\n",
       " <email.message.EmailMessage at 0x7fed39ea74f0>,\n",
       " <email.message.EmailMessage at 0x7fed39ea7ca0>,\n",
       " <email.message.EmailMessage at 0x7fed39ea7820>,\n",
       " <email.message.EmailMessage at 0x7fed39ea7670>,\n",
       " <email.message.EmailMessage at 0x7fed39ea79a0>,\n",
       " <email.message.EmailMessage at 0x7fed39ea7790>,\n",
       " <email.message.EmailMessage at 0x7fed39ea7430>,\n",
       " <email.message.EmailMessage at 0x7fed39ea7eb0>,\n",
       " <email.message.EmailMessage at 0x7fed39ea7940>,\n",
       " <email.message.EmailMessage at 0x7fed39ea7d30>,\n",
       " <email.message.EmailMessage at 0x7fed39ea7ac0>,\n",
       " <email.message.EmailMessage at 0x7fed39ea7cd0>,\n",
       " <email.message.EmailMessage at 0x7fed39ea71f0>,\n",
       " <email.message.EmailMessage at 0x7fed3af33be0>,\n",
       " <email.message.EmailMessage at 0x7fed3af33520>,\n",
       " <email.message.EmailMessage at 0x7fed3af339a0>,\n",
       " <email.message.EmailMessage at 0x7fed3af33700>,\n",
       " <email.message.EmailMessage at 0x7fed3af33820>,\n",
       " <email.message.EmailMessage at 0x7fed3af33220>,\n",
       " <email.message.EmailMessage at 0x7fed3af33eb0>,\n",
       " <email.message.EmailMessage at 0x7fed3af33a90>,\n",
       " <email.message.EmailMessage at 0x7fed3af333d0>,\n",
       " <email.message.EmailMessage at 0x7fed3af33ca0>,\n",
       " <email.message.EmailMessage at 0x7fed3af331f0>,\n",
       " <email.message.EmailMessage at 0x7fed3af33c70>,\n",
       " <email.message.EmailMessage at 0x7fed3af335e0>,\n",
       " <email.message.EmailMessage at 0x7fed3af33bb0>,\n",
       " <email.message.EmailMessage at 0x7fed3af33970>,\n",
       " <email.message.EmailMessage at 0x7fed3af337c0>,\n",
       " <email.message.EmailMessage at 0x7fed3af33f70>,\n",
       " <email.message.EmailMessage at 0x7fed3af33dc0>,\n",
       " <email.message.EmailMessage at 0x7fed3af33880>,\n",
       " <email.message.EmailMessage at 0x7fed3af33670>,\n",
       " <email.message.EmailMessage at 0x7fed3af33640>,\n",
       " <email.message.EmailMessage at 0x7fed3af330a0>,\n",
       " <email.message.EmailMessage at 0x7fed3af33a00>,\n",
       " <email.message.EmailMessage at 0x7fed3af33ac0>,\n",
       " <email.message.EmailMessage at 0x7fed3af33c10>,\n",
       " <email.message.EmailMessage at 0x7fed3af33190>,\n",
       " <email.message.EmailMessage at 0x7fed3af33370>,\n",
       " <email.message.EmailMessage at 0x7fed3af339d0>,\n",
       " <email.message.EmailMessage at 0x7fed3af33910>,\n",
       " <email.message.EmailMessage at 0x7fed3af33400>,\n",
       " <email.message.EmailMessage at 0x7fed3af33460>,\n",
       " <email.message.EmailMessage at 0x7fed3af33580>,\n",
       " <email.message.EmailMessage at 0x7fed3af33ee0>,\n",
       " <email.message.EmailMessage at 0x7fed3af33d30>,\n",
       " <email.message.EmailMessage at 0x7fed3af33550>,\n",
       " <email.message.EmailMessage at 0x7fed3af334c0>,\n",
       " <email.message.EmailMessage at 0x7fed3af33f10>,\n",
       " <email.message.EmailMessage at 0x7fed3af331c0>,\n",
       " <email.message.EmailMessage at 0x7fed3af33df0>,\n",
       " <email.message.EmailMessage at 0x7fed3af337f0>,\n",
       " <email.message.EmailMessage at 0x7fed3af33d00>,\n",
       " <email.message.EmailMessage at 0x7fed3af334f0>,\n",
       " <email.message.EmailMessage at 0x7fed3a431550>,\n",
       " <email.message.EmailMessage at 0x7fed3a431610>,\n",
       " <email.message.EmailMessage at 0x7fed3a431af0>,\n",
       " <email.message.EmailMessage at 0x7fed3a431100>,\n",
       " <email.message.EmailMessage at 0x7fed3a4310a0>,\n",
       " <email.message.EmailMessage at 0x7fed3b077850>,\n",
       " <email.message.EmailMessage at 0x7fed3b077730>,\n",
       " <email.message.EmailMessage at 0x7fed3b077820>,\n",
       " <email.message.EmailMessage at 0x7fed3b077760>,\n",
       " <email.message.EmailMessage at 0x7fed3b077400>,\n",
       " <email.message.EmailMessage at 0x7fed3b077490>,\n",
       " <email.message.EmailMessage at 0x7fed3b077640>,\n",
       " <email.message.EmailMessage at 0x7fed3b077880>,\n",
       " <email.message.EmailMessage at 0x7fed3b077a30>,\n",
       " <email.message.EmailMessage at 0x7fed3b0776d0>,\n",
       " <email.message.EmailMessage at 0x7fed3b077430>,\n",
       " <email.message.EmailMessage at 0x7fed3b0772b0>,\n",
       " <email.message.EmailMessage at 0x7fed3b077790>,\n",
       " <email.message.EmailMessage at 0x7fed3b077190>,\n",
       " <email.message.EmailMessage at 0x7fed3b077a90>,\n",
       " <email.message.EmailMessage at 0x7fed3b0776a0>,\n",
       " <email.message.EmailMessage at 0x7fed3b077370>,\n",
       " <email.message.EmailMessage at 0x7fed3b077700>,\n",
       " <email.message.EmailMessage at 0x7fed3b077220>,\n",
       " <email.message.EmailMessage at 0x7fed3b077dc0>,\n",
       " <email.message.EmailMessage at 0x7fed3b077ee0>,\n",
       " <email.message.EmailMessage at 0x7fed3b077670>,\n",
       " <email.message.EmailMessage at 0x7fed3b0773d0>,\n",
       " <email.message.EmailMessage at 0x7fed3b077310>,\n",
       " <email.message.EmailMessage at 0x7fed3b077af0>,\n",
       " <email.message.EmailMessage at 0x7fed3b077a60>,\n",
       " <email.message.EmailMessage at 0x7fed3b077580>,\n",
       " <email.message.EmailMessage at 0x7fed3b077be0>,\n",
       " <email.message.EmailMessage at 0x7fed3b077d30>,\n",
       " <email.message.EmailMessage at 0x7fed3b077130>,\n",
       " <email.message.EmailMessage at 0x7fed3b077a00>,\n",
       " <email.message.EmailMessage at 0x7fed3b077610>,\n",
       " <email.message.EmailMessage at 0x7fed3b0777f0>,\n",
       " <email.message.EmailMessage at 0x7fed3b077460>,\n",
       " <email.message.EmailMessage at 0x7fed3b0770d0>,\n",
       " <email.message.EmailMessage at 0x7fed3b077d00>,\n",
       " <email.message.EmailMessage at 0x7fed3b0777c0>,\n",
       " <email.message.EmailMessage at 0x7fed3b0770a0>,\n",
       " <email.message.EmailMessage at 0x7fed3b0778b0>,\n",
       " <email.message.EmailMessage at 0x7fed3b077df0>,\n",
       " <email.message.EmailMessage at 0x7fed3b077b50>,\n",
       " <email.message.EmailMessage at 0x7fed3b0774c0>,\n",
       " <email.message.EmailMessage at 0x7fed3b0779a0>,\n",
       " <email.message.EmailMessage at 0x7fed3b077070>,\n",
       " <email.message.EmailMessage at 0x7fed3b077fa0>,\n",
       " <email.message.EmailMessage at 0x7fed3b077250>,\n",
       " <email.message.EmailMessage at 0x7fed3b077bb0>,\n",
       " <email.message.EmailMessage at 0x7fed3b077ca0>,\n",
       " <email.message.EmailMessage at 0x7fed3b077340>,\n",
       " <email.message.EmailMessage at 0x7fed3b077b20>,\n",
       " <email.message.EmailMessage at 0x7fed39fa5520>,\n",
       " <email.message.EmailMessage at 0x7fed39fa5fd0>,\n",
       " <email.message.EmailMessage at 0x7fed39fa54f0>,\n",
       " <email.message.EmailMessage at 0x7fed39fa5580>,\n",
       " <email.message.EmailMessage at 0x7fed39fa52b0>,\n",
       " <email.message.EmailMessage at 0x7fed39fa5640>,\n",
       " <email.message.EmailMessage at 0x7fed39fa5100>,\n",
       " <email.message.EmailMessage at 0x7fed39fa50a0>,\n",
       " <email.message.EmailMessage at 0x7fed39fa5370>,\n",
       " <email.message.EmailMessage at 0x7fed3b077f40>,\n",
       " <email.message.EmailMessage at 0x7fed3b077040>,\n",
       " <email.message.EmailMessage at 0x7fed3b077eb0>,\n",
       " <email.message.EmailMessage at 0x7fed3a3ba940>,\n",
       " <email.message.EmailMessage at 0x7fed3a3bab20>,\n",
       " <email.message.EmailMessage at 0x7fed39fa5f10>,\n",
       " <email.message.EmailMessage at 0x7fed39fa51c0>,\n",
       " <email.message.EmailMessage at 0x7fed3a3ba850>,\n",
       " <email.message.EmailMessage at 0x7fed3a3ba190>,\n",
       " <email.message.EmailMessage at 0x7fed3a3babb0>,\n",
       " <email.message.EmailMessage at 0x7fed3a3bab50>,\n",
       " <email.message.EmailMessage at 0x7fed3a3ba880>,\n",
       " <email.message.EmailMessage at 0x7fed3a3ba070>,\n",
       " <email.message.EmailMessage at 0x7fed3a3bac10>,\n",
       " <email.message.EmailMessage at 0x7fed3a3bad30>,\n",
       " <email.message.EmailMessage at 0x7fed3a3ba9a0>,\n",
       " <email.message.EmailMessage at 0x7fed3a3baac0>,\n",
       " <email.message.EmailMessage at 0x7fed3a3ba820>,\n",
       " <email.message.EmailMessage at 0x7fed3a3bab80>,\n",
       " <email.message.EmailMessage at 0x7fed39fa5490>,\n",
       " <email.message.EmailMessage at 0x7fed39fa5340>,\n",
       " <email.message.EmailMessage at 0x7fed39fa54c0>,\n",
       " <email.message.EmailMessage at 0x7fed39fa5250>,\n",
       " <email.message.EmailMessage at 0x7fed39fa5be0>,\n",
       " <email.message.EmailMessage at 0x7fed39fa5dc0>,\n",
       " <email.message.EmailMessage at 0x7fed39fa5160>,\n",
       " <email.message.EmailMessage at 0x7fed39fa5c40>,\n",
       " <email.message.EmailMessage at 0x7fed39fa5f40>,\n",
       " <email.message.EmailMessage at 0x7fed39fa5eb0>,\n",
       " <email.message.EmailMessage at 0x7fed39fa5c70>,\n",
       " <email.message.EmailMessage at 0x7fed39fa56a0>,\n",
       " <email.message.EmailMessage at 0x7fed39f9a640>,\n",
       " <email.message.EmailMessage at 0x7fed39f9a5e0>,\n",
       " <email.message.EmailMessage at 0x7fed39f9a4c0>,\n",
       " <email.message.EmailMessage at 0x7fed39f9a9d0>,\n",
       " <email.message.EmailMessage at 0x7fed39f9a820>,\n",
       " <email.message.EmailMessage at 0x7fed39f9aa60>,\n",
       " <email.message.EmailMessage at 0x7fed39f9a700>,\n",
       " <email.message.EmailMessage at 0x7fed39f9ac70>,\n",
       " ...]"
      ]
     },
     "execution_count": 25,
     "metadata": {},
     "output_type": "execute_result"
    }
   ],
   "source": [
    "ham_emails"
   ]
  },
  {
   "cell_type": "code",
   "execution_count": 26,
   "id": "8f4187f9",
   "metadata": {},
   "outputs": [],
   "source": [
    "def get_email_structure(email):\n",
    "    if isinstance(email, str):\n",
    "        return email\n",
    "    payload = email.get_payload()\n",
    "    if isinstance(payload, list):\n",
    "        return \"multipart({})\".format(\", \".join([\n",
    "            get_email_structure(sub_email)\n",
    "            for sub_email in payload\n",
    "        ]))\n",
    "    else:\n",
    "        return email.get_content_type()"
   ]
  },
  {
   "cell_type": "code",
   "execution_count": 27,
   "id": "85235f7d",
   "metadata": {},
   "outputs": [],
   "source": [
    "from collections import Counter\n",
    "\n",
    "def structures_counter(emails):\n",
    "    structures = Counter()\n",
    "    for email in emails:\n",
    "        structure = get_email_structure(email)\n",
    "        structures[structure] += 1\n",
    "    return structures"
   ]
  },
  {
   "cell_type": "code",
   "execution_count": 28,
   "id": "36f9e909",
   "metadata": {},
   "outputs": [
    {
     "data": {
      "text/plain": [
       "Counter({'text/plain': 2408,\n",
       "         'multipart(text/plain, application/pgp-signature)': 66,\n",
       "         'multipart(text/plain, text/html)': 8,\n",
       "         'multipart(text/plain, text/enriched)': 1,\n",
       "         'multipart(text/plain, application/ms-tnef, text/plain)': 1,\n",
       "         'multipart(text/plain)': 3,\n",
       "         'multipart(text/plain, application/octet-stream)': 2,\n",
       "         'multipart(text/plain, text/plain)': 4,\n",
       "         'multipart(multipart(text/plain, text/plain, text/plain), application/pgp-signature)': 1,\n",
       "         'multipart(text/plain, video/mng)': 1,\n",
       "         'multipart(text/plain, multipart(text/plain))': 1,\n",
       "         'multipart(text/plain, application/x-pkcs7-signature)': 1,\n",
       "         'multipart(text/plain, multipart(text/plain, text/plain), text/rfc822-headers)': 1,\n",
       "         'multipart(text/plain, multipart(text/plain, text/plain), multipart(multipart(text/plain, application/x-pkcs7-signature)))': 1,\n",
       "         'multipart(text/plain, application/x-java-applet)': 1})"
      ]
     },
     "execution_count": 28,
     "metadata": {},
     "output_type": "execute_result"
    }
   ],
   "source": [
    "structures_counter(ham_emails)"
   ]
  },
  {
   "cell_type": "code",
   "execution_count": 29,
   "id": "988fb0aa",
   "metadata": {},
   "outputs": [
    {
     "data": {
      "text/plain": [
       "[('text/plain', 2408),\n",
       " ('multipart(text/plain, application/pgp-signature)', 66),\n",
       " ('multipart(text/plain, text/html)', 8),\n",
       " ('multipart(text/plain, text/plain)', 4),\n",
       " ('multipart(text/plain)', 3),\n",
       " ('multipart(text/plain, application/octet-stream)', 2),\n",
       " ('multipart(text/plain, text/enriched)', 1),\n",
       " ('multipart(text/plain, application/ms-tnef, text/plain)', 1),\n",
       " ('multipart(multipart(text/plain, text/plain, text/plain), application/pgp-signature)',\n",
       "  1),\n",
       " ('multipart(text/plain, video/mng)', 1),\n",
       " ('multipart(text/plain, multipart(text/plain))', 1),\n",
       " ('multipart(text/plain, application/x-pkcs7-signature)', 1),\n",
       " ('multipart(text/plain, multipart(text/plain, text/plain), text/rfc822-headers)',\n",
       "  1),\n",
       " ('multipart(text/plain, multipart(text/plain, text/plain), multipart(multipart(text/plain, application/x-pkcs7-signature)))',\n",
       "  1),\n",
       " ('multipart(text/plain, application/x-java-applet)', 1)]"
      ]
     },
     "execution_count": 29,
     "metadata": {},
     "output_type": "execute_result"
    }
   ],
   "source": [
    "structures_counter(ham_emails).most_common()\n"
   ]
  },
  {
   "cell_type": "code",
   "execution_count": 30,
   "id": "0940c14e",
   "metadata": {},
   "outputs": [
    {
     "data": {
      "text/plain": [
       "[('text/plain', 218),\n",
       " ('text/html', 183),\n",
       " ('multipart(text/plain, text/html)', 45),\n",
       " ('multipart(text/html)', 20),\n",
       " ('multipart(text/plain)', 19),\n",
       " ('multipart(multipart(text/html))', 5),\n",
       " ('multipart(text/plain, image/jpeg)', 3),\n",
       " ('multipart(text/html, application/octet-stream)', 2),\n",
       " ('multipart(text/plain, application/octet-stream)', 1),\n",
       " ('multipart(text/html, text/plain)', 1),\n",
       " ('multipart(multipart(text/html), application/octet-stream, image/jpeg)', 1),\n",
       " ('multipart(multipart(text/plain, text/html), image/gif)', 1),\n",
       " ('multipart/alternative', 1)]"
      ]
     },
     "execution_count": 30,
     "metadata": {},
     "output_type": "execute_result"
    }
   ],
   "source": [
    "structures_counter(spam_emails).most_common()\n",
    "\n"
   ]
  },
  {
   "cell_type": "code",
   "execution_count": 31,
   "id": "79238c56",
   "metadata": {},
   "outputs": [
    {
     "data": {
      "text/plain": [
       "[('Return-Path', '<12a1mailbot1@web.de>'),\n",
       " ('Delivered-To', 'zzzz@localhost.spamassassin.taint.org'),\n",
       " ('Received',\n",
       "  'from localhost (localhost [127.0.0.1])\\tby phobos.labs.spamassassin.taint.org (Postfix) with ESMTP id 136B943C32\\tfor <zzzz@localhost>; Thu, 22 Aug 2002 08:17:21 -0400 (EDT)'),\n",
       " ('Received',\n",
       "  'from mail.webnote.net [193.120.211.219]\\tby localhost with POP3 (fetchmail-5.9.0)\\tfor zzzz@localhost (single-drop); Thu, 22 Aug 2002 13:17:21 +0100 (IST)'),\n",
       " ('Received',\n",
       "  'from dd_it7 ([210.97.77.167])\\tby webnote.net (8.9.3/8.9.3) with ESMTP id NAA04623\\tfor <zzzz@spamassassin.taint.org>; Thu, 22 Aug 2002 13:09:41 +0100'),\n",
       " ('From', '12a1mailbot1@web.de'),\n",
       " ('Received',\n",
       "  'from r-smtp.korea.com - 203.122.2.197 by dd_it7  with Microsoft SMTPSVC(5.5.1775.675.6);\\t Sat, 24 Aug 2002 09:42:10 +0900'),\n",
       " ('To', 'dcek1a1@netsgo.com'),\n",
       " ('Subject', 'Life Insurance - Why Pay More?'),\n",
       " ('Date', 'Wed, 21 Aug 2002 20:31:57 -1600'),\n",
       " ('MIME-Version', '1.0'),\n",
       " ('Message-ID', '<0103c1042001882DD_IT7@dd_it7>'),\n",
       " ('Content-Type', 'text/html; charset=\"iso-8859-1\"'),\n",
       " ('Content-Transfer-Encoding', 'quoted-printable')]"
      ]
     },
     "execution_count": 31,
     "metadata": {},
     "output_type": "execute_result"
    }
   ],
   "source": [
    "spam_emails[0].items()"
   ]
  },
  {
   "cell_type": "code",
   "execution_count": 32,
   "id": "8b0485f1",
   "metadata": {},
   "outputs": [
    {
     "name": "stdout",
     "output_type": "stream",
     "text": [
      "Return-Path : <12a1mailbot1@web.de>\n",
      "Delivered-To : zzzz@localhost.spamassassin.taint.org\n",
      "Received : from localhost (localhost [127.0.0.1])\tby phobos.labs.spamassassin.taint.org (Postfix) with ESMTP id 136B943C32\tfor <zzzz@localhost>; Thu, 22 Aug 2002 08:17:21 -0400 (EDT)\n",
      "Received : from mail.webnote.net [193.120.211.219]\tby localhost with POP3 (fetchmail-5.9.0)\tfor zzzz@localhost (single-drop); Thu, 22 Aug 2002 13:17:21 +0100 (IST)\n",
      "Received : from dd_it7 ([210.97.77.167])\tby webnote.net (8.9.3/8.9.3) with ESMTP id NAA04623\tfor <zzzz@spamassassin.taint.org>; Thu, 22 Aug 2002 13:09:41 +0100\n",
      "From : 12a1mailbot1@web.de\n",
      "Received : from r-smtp.korea.com - 203.122.2.197 by dd_it7  with Microsoft SMTPSVC(5.5.1775.675.6);\t Sat, 24 Aug 2002 09:42:10 +0900\n",
      "To : dcek1a1@netsgo.com\n",
      "Subject : Life Insurance - Why Pay More?\n",
      "Date : Wed, 21 Aug 2002 20:31:57 -1600\n",
      "MIME-Version : 1.0\n",
      "Message-ID : <0103c1042001882DD_IT7@dd_it7>\n",
      "Content-Type : text/html; charset=\"iso-8859-1\"\n",
      "Content-Transfer-Encoding : quoted-printable\n"
     ]
    }
   ],
   "source": [
    "for header, value in spam_emails[0].items():\n",
    "    print(header,\":\",value)"
   ]
  },
  {
   "cell_type": "code",
   "execution_count": 33,
   "id": "a28c7950",
   "metadata": {},
   "outputs": [
    {
     "data": {
      "text/plain": [
       "'Life Insurance - Why Pay More?'"
      ]
     },
     "execution_count": 33,
     "metadata": {},
     "output_type": "execute_result"
    }
   ],
   "source": [
    "spam_emails[0][\"Subject\"]\n"
   ]
  },
  {
   "cell_type": "code",
   "execution_count": 42,
   "id": "d9b63966",
   "metadata": {},
   "outputs": [],
   "source": [
    "import numpy as np\n",
    "from sklearn.model_selection import train_test_split\n",
    "\n",
    "X = np.array(ham_emails + spam_emails, dtype=object)\n",
    "y = np.array([0] * len(ham_emails) + [1] * len(spam_emails))\n",
    "X_train, X_test, y_train, y_test = train_test_split(X, y, test_size=0.2, random_state=42)\n",
    "    "
   ]
  },
  {
   "cell_type": "code",
   "execution_count": 35,
   "id": "85e4f292",
   "metadata": {},
   "outputs": [
    {
     "data": {
      "text/plain": [
       "array([<email.message.EmailMessage object at 0x7fed3a4308b0>,\n",
       "       <email.message.EmailMessage object at 0x7fed3a07ceb0>,\n",
       "       <email.message.EmailMessage object at 0x7fed3a07c9d0>, ...,\n",
       "       <email.message.EmailMessage object at 0x7fed3c671430>,\n",
       "       <email.message.EmailMessage object at 0x7fed3c671070>,\n",
       "       <email.message.EmailMessage object at 0x7fed3c671310>],\n",
       "      dtype=object)"
      ]
     },
     "execution_count": 35,
     "metadata": {},
     "output_type": "execute_result"
    }
   ],
   "source": [
    "X"
   ]
  },
  {
   "cell_type": "code",
   "execution_count": 36,
   "id": "71d3351c",
   "metadata": {},
   "outputs": [
    {
     "data": {
      "text/plain": [
       "array([0, 0, 0, ..., 1, 1, 1])"
      ]
     },
     "execution_count": 36,
     "metadata": {},
     "output_type": "execute_result"
    }
   ],
   "source": [
    "y\n"
   ]
  },
  {
   "cell_type": "code",
   "execution_count": 41,
   "id": "184f9f51",
   "metadata": {},
   "outputs": [
    {
     "data": {
      "text/plain": [
       "1"
      ]
     },
     "execution_count": 41,
     "metadata": {},
     "output_type": "execute_result"
    }
   ],
   "source": [
    "y[2500]"
   ]
  },
  {
   "cell_type": "code",
   "execution_count": 46,
   "id": "54cda77c",
   "metadata": {},
   "outputs": [
    {
     "data": {
      "text/plain": [
       "2400"
      ]
     },
     "execution_count": 46,
     "metadata": {},
     "output_type": "execute_result"
    }
   ],
   "source": [
    "len(X_train)"
   ]
  },
  {
   "cell_type": "code",
   "execution_count": 49,
   "id": "c3d41fd0",
   "metadata": {},
   "outputs": [],
   "source": [
    "import re\n",
    "from html import unescape\n",
    "\n",
    "def html_to_plain_text(html):\n",
    "    text = re.sub('<head.*?>.*?</head>', '', html, flags=re.M | re.S | re.I)\n",
    "    text = re.sub('<a\\s.*?>', ' HYPERLINK ', text, flags=re.M | re.S | re.I)\n",
    "    text = re.sub('<.*?>', '', text, flags=re.M | re.S)\n",
    "    text = re.sub(r'(\\s*\\n)+', '\\n', text, flags=re.M | re.S)\n",
    "    return unescape(text)"
   ]
  },
  {
   "cell_type": "code",
   "execution_count": 45,
   "id": "30aa6ec5",
   "metadata": {},
   "outputs": [
    {
     "data": {
      "text/plain": [
       "405"
      ]
     },
     "execution_count": 45,
     "metadata": {},
     "output_type": "execute_result"
    }
   ],
   "source": [
    "len(X_train[y_train==1])"
   ]
  },
  {
   "cell_type": "code",
   "execution_count": 47,
   "id": "09229aa7",
   "metadata": {},
   "outputs": [
    {
     "name": "stdout",
     "output_type": "stream",
     "text": [
      "<HTML><HEAD><TITLE></TITLE><META http-equiv=\"Content-Type\" content=\"text/html; charset=windows-1252\"><STYLE>A:link {TEX-DECORATION: none}A:active {TEXT-DECORATION: none}A:visited {TEXT-DECORATION: none}A:hover {COLOR: #0033ff; TEXT-DECORATION: underline}</STYLE><META content=\"MSHTML 6.00.2713.1100\" name=\"GENERATOR\"></HEAD>\n",
      "<BODY text=\"#000000\" vLink=\"#0033ff\" link=\"#0033ff\" bgColor=\"#CCCC99\"><TABLE borderColor=\"#660000\" cellSpacing=\"0\" cellPadding=\"0\" border=\"0\" width=\"100%\"><TR><TD bgColor=\"#CCCC99\" valign=\"top\" colspan=\"2\" height=\"27\">\n",
      "<font size=\"6\" face=\"Arial, Helvetica, sans-serif\" color=\"#660000\">\n",
      "<b>OTC</b></font></TD></TR><TR><TD height=\"2\" bgcolor=\"#6a694f\">\n",
      "<font size=\"5\" face=\"Times New Roman, Times, serif\" color=\"#FFFFFF\">\n",
      "<b>&nbsp;Newsletter</b></font></TD><TD height=\"2\" bgcolor=\"#6a694f\"><div align=\"right\"><font color=\"#FFFFFF\">\n",
      "<b>Discover Tomorrow's Winners&nbsp;</b></font></div></TD></TR><TR><TD height=\"25\" colspan=\"2\" bgcolor=\"#CCCC99\"><table width=\"100%\" border=\"0\"  ...\n"
     ]
    }
   ],
   "source": [
    "html_spam_emails = [email for email in X_train[y_train==1]\n",
    "                    if get_email_structure(email) == \"text/html\"]\n",
    "sample_html_spam = html_spam_emails[7]\n",
    "print(sample_html_spam.get_content().strip()[:1000], \"...\")\n"
   ]
  },
  {
   "cell_type": "code",
   "execution_count": 50,
   "id": "7c2fdf3e",
   "metadata": {},
   "outputs": [
    {
     "name": "stdout",
     "output_type": "stream",
     "text": [
      "\n",
      "OTC\n",
      " Newsletter\n",
      "Discover Tomorrow's Winners \n",
      "For Immediate Release\n",
      "Cal-Bay (Stock Symbol: CBYI)\n",
      "Watch for analyst \"Strong Buy Recommendations\" and several advisory newsletters picking CBYI.  CBYI has filed to be traded on the OTCBB, share prices historically INCREASE when companies get listed on this larger trading exchange. CBYI is trading around 25 cents and should skyrocket to $2.66 - $3.25 a share in the near future.\n",
      "Put CBYI on your watch list, acquire a position TODAY.\n",
      "REASONS TO INVEST IN CBYI\n",
      "A profitable company and is on track to beat ALL earnings estimates!\n",
      "One of the FASTEST growing distributors in environmental & safety equipment instruments.\n",
      "Excellent management team, several EXCLUSIVE contracts.  IMPRESSIVE client list including the U.S. Air Force, Anheuser-Busch, Chevron Refining and Mitsubishi Heavy Industries, GE-Energy & Environmental Research.\n",
      "RAPIDLY GROWING INDUSTRY\n",
      "Industry revenues exceed $900 million, estimates indicate that there could be as much as $25 billi ...\n"
     ]
    }
   ],
   "source": [
    "print(html_to_plain_text(sample_html_spam.get_content())[:1000], \"...\")\n"
   ]
  },
  {
   "cell_type": "code",
   "execution_count": null,
   "id": "469c8e0f",
   "metadata": {},
   "outputs": [],
   "source": [
    "def email_to_plain_text(new_email):\n",
    "    email_content = new_email.get_content()\n",
    "    return html_to_plain_text(email_content)"
   ]
  },
  {
   "cell_type": "code",
   "execution_count": 52,
   "id": "c778916b",
   "metadata": {},
   "outputs": [
    {
     "name": "stdout",
     "output_type": "stream",
     "text": [
      "<generator object walk at 0x7fed3c8a2e40>\n"
     ]
    }
   ],
   "source": [
    "ham_emails[0].walk()"
   ]
  },
  {
   "cell_type": "code",
   "execution_count": 53,
   "id": "8844b154",
   "metadata": {},
   "outputs": [],
   "source": [
    "def email_to_text(email):\n",
    "    html = None\n",
    "    for part in email.walk():\n",
    "        ctype = part.get_content_type()\n",
    "        if not ctype in (\"text/plain\", \"text/html\"):\n",
    "            continue\n",
    "        try:\n",
    "            content = part.get_content()\n",
    "        except: # in case of encoding issues\n",
    "            content = str(part.get_payload())\n",
    "        if ctype == \"text/plain\":\n",
    "            return content\n",
    "        else:\n",
    "            html = content\n",
    "    if html:\n",
    "        return html_to_plain_text(html)"
   ]
  },
  {
   "cell_type": "code",
   "execution_count": 54,
   "id": "b2cdfcbd",
   "metadata": {},
   "outputs": [
    {
     "name": "stdout",
     "output_type": "stream",
     "text": [
      "\n",
      "OTC\n",
      " Newsletter\n",
      "Discover Tomorrow's Winners \n",
      "For Immediate Release\n",
      "Cal-Bay (Stock Symbol: CBYI)\n",
      "Wat ...\n"
     ]
    }
   ],
   "source": [
    "print(email_to_text(sample_html_spam)[:100], \"...\")\n"
   ]
  },
  {
   "cell_type": "code",
   "execution_count": 57,
   "id": "ed450e6a",
   "metadata": {},
   "outputs": [
    {
     "name": "stdout",
     "output_type": "stream",
     "text": [
      "Computations => comput\n",
      "Computation => comput\n",
      "Computing => comput\n",
      "Computed => comput\n",
      "Compute => comput\n",
      "Compulsive => compuls\n"
     ]
    }
   ],
   "source": [
    "try:\n",
    "    import nltk\n",
    "\n",
    "    stemmer = nltk.PorterStemmer()\n",
    "    for word in (\"Computations\", \"Computation\", \"Computing\", \"Computed\", \"Compute\", \"Compulsive\"):\n",
    "        print(word, \"=>\", stemmer.stem(word))\n",
    "except ImportError:\n",
    "    print(\"Error: stemming requires the NLTK module.\")\n",
    "    stemmer = None\n"
   ]
  },
  {
   "cell_type": "code",
   "execution_count": 59,
   "id": "88e7ee70",
   "metadata": {},
   "outputs": [
    {
     "name": "stdout",
     "output_type": "stream",
     "text": [
      "{'github.com', 'https://youtu.be/7Pq-S557XQU?t=3m32s'}\n"
     ]
    }
   ],
   "source": [
    "try:\n",
    "    import urlextract # may require an Internet connection to download root domain names\n",
    "    \n",
    "    url_extractor = urlextract.URLExtract()\n",
    "    print(set(url_extractor.find_urls(\"Will it detect github.com and https://youtu.be/7Pq-S557XQU?t=3m32s\")))\n",
    "except ImportError:\n",
    "    print(\"Error: replacing URLs requires the urlextract module.\")\n",
    "    url_extractor = None"
   ]
  },
  {
   "cell_type": "code",
   "execution_count": 61,
   "id": "c4d12b78",
   "metadata": {},
   "outputs": [],
   "source": [
    "from sklearn.base import BaseEstimator, TransformerMixin\n",
    "\n",
    "class EmailToWordCounterTransformer(BaseEstimator, TransformerMixin):\n",
    "    def __init__(self, strip_headers=True, lower_case=True, remove_punctuation=True,\n",
    "                 replace_urls=True, replace_numbers=True, stemming=True):\n",
    "        self.strip_headers = strip_headers\n",
    "        self.lower_case = lower_case\n",
    "        self.remove_punctuation = remove_punctuation\n",
    "        self.replace_urls = replace_urls\n",
    "        self.replace_numbers = replace_numbers\n",
    "        self.stemming = stemming\n",
    "    def fit(self, X, y=None):\n",
    "        return self\n",
    "    def transform(self, X, y=None):\n",
    "        X_transformed = []\n",
    "        for email in X:\n",
    "            text = email_to_text(email) or \"\"\n",
    "            if self.lower_case:\n",
    "                text = text.lower()\n",
    "            if self.replace_urls and url_extractor is not None:\n",
    "                urls = list(set(url_extractor.find_urls(text)))\n",
    "                urls.sort(key=lambda url: len(url), reverse=True)\n",
    "                for url in urls:\n",
    "                    text = text.replace(url, \" URL \")\n",
    "            if self.replace_numbers:\n",
    "                text = re.sub(r'\\d+(?:\\.\\d*)?(?:[eE][+-]?\\d+)?', 'NUMBER', text)\n",
    "            if self.remove_punctuation:\n",
    "                text = re.sub(r'\\W+', ' ', text, flags=re.M)\n",
    "            word_counts = Counter(text.split())\n",
    "            if self.stemming and stemmer is not None:\n",
    "                stemmed_word_counts = Counter()\n",
    "                for word, count in word_counts.items():\n",
    "                    stemmed_word = stemmer.stem(word)\n",
    "                    stemmed_word_counts[stemmed_word] += count\n",
    "                word_counts = stemmed_word_counts\n",
    "            X_transformed.append(word_counts)\n",
    "        return np.array(X_transformed)"
   ]
  },
  {
   "cell_type": "code",
   "execution_count": 62,
   "id": "a7d603cf",
   "metadata": {},
   "outputs": [
    {
     "data": {
      "text/plain": [
       "array([Counter({'chuck': 1, 'murcko': 1, 'wrote': 1, 'stuff': 1, 'yawn': 1, 'r': 1}),\n",
       "       Counter({'the': 11, 'of': 9, 'and': 8, 'all': 3, 'christian': 3, 'to': 3, 'by': 3, 'jefferson': 2, 'i': 2, 'have': 2, 'superstit': 2, 'one': 2, 'on': 2, 'been': 2, 'ha': 2, 'half': 2, 'rogueri': 2, 'teach': 2, 'jesu': 2, 'some': 1, 'interest': 1, 'quot': 1, 'url': 1, 'thoma': 1, 'examin': 1, 'known': 1, 'word': 1, 'do': 1, 'not': 1, 'find': 1, 'in': 1, 'our': 1, 'particular': 1, 'redeem': 1, 'featur': 1, 'they': 1, 'are': 1, 'alik': 1, 'found': 1, 'fabl': 1, 'mytholog': 1, 'million': 1, 'innoc': 1, 'men': 1, 'women': 1, 'children': 1, 'sinc': 1, 'introduct': 1, 'burnt': 1, 'tortur': 1, 'fine': 1, 'imprison': 1, 'what': 1, 'effect': 1, 'thi': 1, 'coercion': 1, 'make': 1, 'world': 1, 'fool': 1, 'other': 1, 'hypocrit': 1, 'support': 1, 'error': 1, 'over': 1, 'earth': 1, 'six': 1, 'histor': 1, 'american': 1, 'john': 1, 'e': 1, 'remsburg': 1, 'letter': 1, 'william': 1, 'short': 1, 'again': 1, 'becom': 1, 'most': 1, 'pervert': 1, 'system': 1, 'that': 1, 'ever': 1, 'shone': 1, 'man': 1, 'absurd': 1, 'untruth': 1, 'were': 1, 'perpetr': 1, 'upon': 1, 'a': 1, 'larg': 1, 'band': 1, 'dupe': 1, 'import': 1, 'led': 1, 'paul': 1, 'first': 1, 'great': 1, 'corrupt': 1}),\n",
       "       Counter({'url': 4, 's': 3, 'group': 3, 'to': 3, 'in': 2, 'forteana': 2, 'martin': 2, 'an': 2, 'and': 2, 'we': 2, 'is': 2, 'yahoo': 2, 'unsubscrib': 2, 'y': 1, 'adamson': 1, 'wrote': 1, 'for': 1, 'altern': 1, 'rather': 1, 'more': 1, 'factual': 1, 'base': 1, 'rundown': 1, 'on': 1, 'hamza': 1, 'career': 1, 'includ': 1, 'hi': 1, 'belief': 1, 'that': 1, 'all': 1, 'non': 1, 'muslim': 1, 'yemen': 1, 'should': 1, 'be': 1, 'murder': 1, 'outright': 1, 'know': 1, 'how': 1, 'unbias': 1, 'memri': 1, 'don': 1, 't': 1, 'html': 1, 'rob': 1, 'sponsor': 1, 'number': 1, 'dvd': 1, 'free': 1, 'p': 1, 'join': 1, 'now': 1, 'from': 1, 'thi': 1, 'send': 1, 'email': 1, 'egroup': 1, 'com': 1, 'your': 1, 'use': 1, 'of': 1, 'subject': 1})],\n",
       "      dtype=object)"
      ]
     },
     "execution_count": 62,
     "metadata": {},
     "output_type": "execute_result"
    }
   ],
   "source": [
    "X_few = X_train[:3]\n",
    "X_few_wordcounts = EmailToWordCounterTransformer().fit_transform(X_few)\n",
    "X_few_wordcounts"
   ]
  },
  {
   "cell_type": "code",
   "execution_count": 65,
   "id": "64750dcf",
   "metadata": {},
   "outputs": [
    {
     "data": {
      "text/plain": [
       "Counter({'chuck': 1, 'murcko': 1, 'wrote': 1, 'stuff': 1, 'yawn': 1, 'r': 1})"
      ]
     },
     "execution_count": 65,
     "metadata": {},
     "output_type": "execute_result"
    }
   ],
   "source": [
    "X_few_wordcounts[0]"
   ]
  },
  {
   "cell_type": "code",
   "execution_count": 66,
   "id": "8be3384c",
   "metadata": {},
   "outputs": [],
   "source": [
    "from scipy.sparse import csr_matrix\n",
    "\n",
    "class WordCounterToVectorTransformer(BaseEstimator, TransformerMixin):\n",
    "    def __init__(self, vocabulary_size=1000):\n",
    "        self.vocabulary_size = vocabulary_size\n",
    "    def fit(self, X, y=None):\n",
    "        total_count = Counter()\n",
    "        for word_count in X:\n",
    "            for word, count in word_count.items():\n",
    "                total_count[word] += min(count, 10)\n",
    "        most_common = total_count.most_common()[:self.vocabulary_size]\n",
    "        self.vocabulary_ = {word: index + 1 for index, (word, count) in enumerate(most_common)}\n",
    "        return self\n",
    "    def transform(self, X, y=None):\n",
    "        rows = []\n",
    "        cols = []\n",
    "        data = []\n",
    "        for row, word_count in enumerate(X):\n",
    "            for word, count in word_count.items():\n",
    "                rows.append(row)\n",
    "                cols.append(self.vocabulary_.get(word, 0))\n",
    "                data.append(count)\n",
    "        return csr_matrix((data, (rows, cols)), shape=(len(X), self.vocabulary_size + 1))"
   ]
  },
  {
   "cell_type": "code",
   "execution_count": 67,
   "id": "7a2eaffd",
   "metadata": {},
   "outputs": [
    {
     "data": {
      "text/plain": [
       "<3x11 sparse matrix of type '<class 'numpy.int64'>'\n",
       "\twith 20 stored elements in Compressed Sparse Row format>"
      ]
     },
     "execution_count": 67,
     "metadata": {},
     "output_type": "execute_result"
    }
   ],
   "source": [
    "vocab_transformer = WordCounterToVectorTransformer(vocabulary_size=10)\n",
    "X_few_vectors = vocab_transformer.fit_transform(X_few_wordcounts)\n",
    "X_few_vectors"
   ]
  },
  {
   "cell_type": "code",
   "execution_count": 75,
   "id": "4d738285",
   "metadata": {},
   "outputs": [],
   "source": [
    "total_counts = Counter()\n",
    "for word_count in X_few_wordcounts:\n",
    "    for word, count in word_count.items():\n",
    "        total_counts[word] += (min(count,10))"
   ]
  },
  {
   "cell_type": "code",
   "execution_count": 81,
   "id": "3679ad89",
   "metadata": {},
   "outputs": [],
   "source": [
    "most=total_counts.most_common()[:10]"
   ]
  },
  {
   "cell_type": "code",
   "execution_count": 83,
   "id": "64ada5e5",
   "metadata": {},
   "outputs": [
    {
     "name": "stdout",
     "output_type": "stream",
     "text": [
      "0 the 10\n",
      "1 of 10\n",
      "2 and 10\n",
      "3 to 6\n",
      "4 url 5\n",
      "5 all 4\n",
      "6 in 3\n",
      "7 christian 3\n",
      "8 on 3\n",
      "9 by 3\n"
     ]
    }
   ],
   "source": [
    " for index, (word,count) in enumerate(most):\n",
    "        print (index, word, count)"
   ]
  },
  {
   "cell_type": "code",
   "execution_count": 84,
   "id": "0426f9a3",
   "metadata": {},
   "outputs": [
    {
     "data": {
      "text/plain": [
       "<3x11 sparse matrix of type '<class 'numpy.int64'>'\n",
       "\twith 20 stored elements in Compressed Sparse Row format>"
      ]
     },
     "execution_count": 84,
     "metadata": {},
     "output_type": "execute_result"
    }
   ],
   "source": [
    "vocab_transformer = WordCounterToVectorTransformer(vocabulary_size=10)\n",
    "X_few_vectors = vocab_transformer.fit_transform(X_few_wordcounts)\n",
    "X_few_vectors"
   ]
  },
  {
   "cell_type": "code",
   "execution_count": 85,
   "id": "7de1d4c6",
   "metadata": {},
   "outputs": [
    {
     "data": {
      "text/plain": [
       "array([[ 6,  0,  0,  0,  0,  0,  0,  0,  0,  0,  0],\n",
       "       [99, 11,  9,  8,  3,  1,  3,  1,  3,  2,  3],\n",
       "       [67,  0,  1,  2,  3,  4,  1,  2,  0,  1,  0]])"
      ]
     },
     "execution_count": 85,
     "metadata": {},
     "output_type": "execute_result"
    }
   ],
   "source": [
    "X_few_vectors.toarray()\n"
   ]
  },
  {
   "cell_type": "code",
   "execution_count": 86,
   "id": "750d3ca6",
   "metadata": {},
   "outputs": [
    {
     "data": {
      "text/plain": [
       "{'the': 1,\n",
       " 'of': 2,\n",
       " 'and': 3,\n",
       " 'to': 4,\n",
       " 'url': 5,\n",
       " 'all': 6,\n",
       " 'in': 7,\n",
       " 'christian': 8,\n",
       " 'on': 9,\n",
       " 'by': 10}"
      ]
     },
     "execution_count": 86,
     "metadata": {},
     "output_type": "execute_result"
    }
   ],
   "source": [
    "vocab_transformer.vocabulary_\n"
   ]
  },
  {
   "cell_type": "code",
   "execution_count": 87,
   "id": "8beaba71",
   "metadata": {},
   "outputs": [],
   "source": [
    "from sklearn.pipeline import Pipeline\n",
    "\n",
    "preprocess_pipeline = Pipeline([\n",
    "    (\"email_to_wordcount\", EmailToWordCounterTransformer()),\n",
    "    (\"wordcount_to_vector\", WordCounterToVectorTransformer()),\n",
    "])\n",
    "\n",
    "X_train_transformed = preprocess_pipeline.fit_transform(X_train)"
   ]
  },
  {
   "cell_type": "code",
   "execution_count": 91,
   "id": "88b80df7",
   "metadata": {},
   "outputs": [
    {
     "data": {
      "text/plain": [
       "array([[ 3,  0,  0, ...,  0,  0,  0],\n",
       "       [41,  0, 11, ...,  0,  0,  0],\n",
       "       [16,  1,  0, ...,  0,  0,  0],\n",
       "       ...,\n",
       "       [86, 29, 20, ...,  1,  0,  0],\n",
       "       [12,  6,  2, ...,  0,  0,  0],\n",
       "       [78, 28, 11, ...,  0,  0,  0]])"
      ]
     },
     "execution_count": 91,
     "metadata": {},
     "output_type": "execute_result"
    }
   ],
   "source": [
    "X_train_transformed.toarray()"
   ]
  },
  {
   "cell_type": "code",
   "execution_count": 89,
   "id": "687865a7",
   "metadata": {},
   "outputs": [
    {
     "name": "stderr",
     "output_type": "stream",
     "text": [
      "[Parallel(n_jobs=1)]: Using backend SequentialBackend with 1 concurrent workers.\n"
     ]
    },
    {
     "name": "stdout",
     "output_type": "stream",
     "text": [
      "[CV] END ................................ score: (test=0.981) total time=   0.2s\n"
     ]
    },
    {
     "name": "stderr",
     "output_type": "stream",
     "text": [
      "[Parallel(n_jobs=1)]: Done   1 out of   1 | elapsed:    0.2s remaining:    0.0s\n"
     ]
    },
    {
     "name": "stdout",
     "output_type": "stream",
     "text": [
      "[CV] END ................................ score: (test=0.984) total time=   0.2s\n"
     ]
    },
    {
     "name": "stderr",
     "output_type": "stream",
     "text": [
      "[Parallel(n_jobs=1)]: Done   2 out of   2 | elapsed:    0.5s remaining:    0.0s\n"
     ]
    },
    {
     "name": "stdout",
     "output_type": "stream",
     "text": [
      "[CV] END ................................ score: (test=0.990) total time=   0.3s\n"
     ]
    },
    {
     "name": "stderr",
     "output_type": "stream",
     "text": [
      "[Parallel(n_jobs=1)]: Done   3 out of   3 | elapsed:    0.7s finished\n"
     ]
    },
    {
     "data": {
      "text/plain": [
       "0.985"
      ]
     },
     "execution_count": 89,
     "metadata": {},
     "output_type": "execute_result"
    }
   ],
   "source": [
    "from sklearn.linear_model import LogisticRegression\n",
    "from sklearn.model_selection import cross_val_score\n",
    "\n",
    "log_clf = LogisticRegression(solver=\"lbfgs\", max_iter=1000, random_state=42)\n",
    "score = cross_val_score(log_clf, X_train_transformed, y_train, cv=3, verbose=3)\n",
    "score.mean()"
   ]
  },
  {
   "cell_type": "code",
   "execution_count": 93,
   "id": "23b6f178",
   "metadata": {},
   "outputs": [
    {
     "name": "stdout",
     "output_type": "stream",
     "text": [
      "Precision:96.88%\n",
      "Recall:97.89%\n"
     ]
    }
   ],
   "source": [
    "from sklearn.metrics import precision_score, recall_score\n",
    "\n",
    "X_test_transformed = preprocess_pipeline.transform(X_test)\n",
    "\n",
    "log_clf = LogisticRegression(solver=\"lbfgs\", max_iter=1000, random_state=42)\n",
    "log_clf.fit(X_train_transformed, y_train)\n",
    "\n",
    "y_pred = log_clf.predict(X_test_transformed)\n",
    "\n",
    "print(\"Precision: {:.2f}%\".format(100 * precision_score(y_test, y_pred)))\n",
    "print(\"Recall: {:.2f}%\".format(100 * recall_score(y_test, y_pred)))"
   ]
  }
 ],
 "metadata": {
  "kernelspec": {
   "display_name": "Python 3 (ipykernel)",
   "language": "python",
   "name": "python3"
  },
  "language_info": {
   "codemirror_mode": {
    "name": "ipython",
    "version": 3
   },
   "file_extension": ".py",
   "mimetype": "text/x-python",
   "name": "python",
   "nbconvert_exporter": "python",
   "pygments_lexer": "ipython3",
   "version": "3.9.7"
  }
 },
 "nbformat": 4,
 "nbformat_minor": 5
}
